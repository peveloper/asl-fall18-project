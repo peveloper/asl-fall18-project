{
 "cells": [
  {
   "cell_type": "code",
   "execution_count": 1,
   "metadata": {},
   "outputs": [],
   "source": [
    "from os import listdir\n",
    "from os.path import isfile\n",
    "from fnmatch import fnmatch\n",
    "from math import isnan, ceil\n",
    "from pprint import pprint\n",
    "from statistics import median\n",
    "from re import match, search\n",
    "\n",
    "import pandas as pd\n",
    "import numpy as np\n",
    "import matplotlib.pyplot as plt\n",
    "import matplotlib.ticker as ticker\n",
    "from matplotlib.font_manager import FontProperties"
   ]
  },
  {
   "cell_type": "code",
   "execution_count": 2,
   "metadata": {},
   "outputs": [],
   "source": [
    "def get_ratio(filename, mw=False):\n",
    "    i = 0\n",
    "    if mw:\n",
    "        i = 1\n",
    "    return filename.split('_')[i].replace('ratio','')"
   ]
  },
  {
   "cell_type": "code",
   "execution_count": 3,
   "metadata": {},
   "outputs": [],
   "source": [
    "def get_run(filename, mw=False):\n",
    "    i = 1\n",
    "    if mw:\n",
    "        i = 2\n",
    "    return int(filename.split('_')[i].replace('run',''))"
   ]
  },
  {
   "cell_type": "code",
   "execution_count": 4,
   "metadata": {},
   "outputs": [],
   "source": [
    "def get_vcs(filename, mw=False):\n",
    "    i = 2\n",
    "    if mw:\n",
    "        i = 3\n",
    "    return int(filename.split('_')[i].replace('vclients',''))"
   ]
  },
  {
   "cell_type": "code",
   "execution_count": 5,
   "metadata": {},
   "outputs": [],
   "source": [
    "def get_worker_threads(filename, mw=False):\n",
    "    i = 3\n",
    "    if mw:\n",
    "        i = 4 \n",
    "        return int(filename.split('_')[i].replace('workerthreads', '').replace('.log', ''))\n",
    "    return int(filename.split('_')[i].replace('workerthreads', ''))"
   ]
  },
  {
   "cell_type": "code",
   "execution_count": 6,
   "metadata": {},
   "outputs": [],
   "source": [
    "def get_client(filename):\n",
    "    return int(filename.split('_')[4].replace('client', ''))"
   ]
  },
  {
   "cell_type": "code",
   "execution_count": 7,
   "metadata": {},
   "outputs": [],
   "source": [
    "def get_instance(filename):\n",
    "    return int(filename.split('_')[-1].replace('instance','').replace('.log', ''))"
   ]
  },
  {
   "cell_type": "code",
   "execution_count": 8,
   "metadata": {},
   "outputs": [],
   "source": [
    "def get_mw(filename):\n",
    "    return int(filename.split('_')[0].replace('stats', ''))"
   ]
  },
  {
   "cell_type": "code",
   "execution_count": 9,
   "metadata": {},
   "outputs": [],
   "source": [
    "def roundup(x):\n",
    "    return int(ceil(x / 1.0)) * 1"
   ]
  },
  {
   "cell_type": "code",
   "execution_count": 10,
   "metadata": {},
   "outputs": [],
   "source": [
    "def parse_line(line):\n",
    "    ops_pat = '(\\d+) \\(avg:\\s+\\d+\\) ops/sec,'\n",
    "    ops = int(search(ops_pat, line).group(1))\n",
    "    latency_pat = '(\\d+\\.\\d+) \\(avg:\\s+\\d+\\.\\d+\\) msec latency'\n",
    "    latency = float(search(latency_pat, line).group(1))\n",
    "    return {'ops': ops, 'rt': latency}"
   ]
  },
  {
   "cell_type": "code",
   "execution_count": 11,
   "metadata": {},
   "outputs": [],
   "source": [
    "def parse_content(path, filename):\n",
    "    content = []\n",
    "    with (open(path+filename, 'r')) as file:\n",
    "        for line in file.readlines():\n",
    "            if line.startswith('[RUN #1 ') and 'nan' not in line:\n",
    "                content.append(parse_line(line))\n",
    "    return content[10:60]"
   ]
  },
  {
   "cell_type": "code",
   "execution_count": 12,
   "metadata": {},
   "outputs": [],
   "source": [
    "def dump_csv(df, filename):\n",
    "    df.to_csv(filename, float_format='%.2f')\n",
    "    return"
   ]
  },
  {
   "cell_type": "code",
   "execution_count": 13,
   "metadata": {},
   "outputs": [],
   "source": [
    "def get_avg_rt(df, ratios, worker_threads, vclients, runs, threads, instances, clients):\n",
    "    rts = []\n",
    "    stds = []\n",
    "    ils = []\n",
    "    xs = [x * threads * instances * clients for x in vclients] \n",
    "    system = 'mt' if len(df.columns) < 3 else 'mw'\n",
    "    \n",
    "    for ratio in ratios:\n",
    "        fig, ax = plt.subplots()\n",
    "        whole = []\n",
    "        whole_stds = [] \n",
    "        for wt in worker_threads:\n",
    "            values = [.0] * len(vclients)\n",
    "            std = [.0] * len(vclients)\n",
    "            il = [.0] * len(vclients)\n",
    "            for i, vc in enumerate(vclients):\n",
    "                if system == 'mt':\n",
    "                    values[i] = df.unstack().loc[(ratio, wt, vc), 'ResponseTime (ms)'].T.mean().unstack().T.mean().mean()\n",
    "                    std[i] = np.std(df.unstack().loc[(ratio, wt, vc), 'ResponseTime (ms)'].T.mean().unstack().T.mean())\n",
    "                    il[i] = (1 / values[i]) * 1000 * (vc * threads * instances * clients)\n",
    "                else:\n",
    "                    values[i] = df.loc[(ratio, wt, vc), 'ResponseTime (ms)'].unstack().T.mean().mean()\n",
    "                    std[i] = np.std(df.loc[(ratio, wt, vc), 'ResponseTime (ms)'].unstack().T.mean().values.tolist())\n",
    "                    # Little's Law for the number of jobs in the system\n",
    "                    jobs =  df.loc[(ratio, wt, vc), 'Jobs'].unstack().T.mean().mean() / 70.0 / 1000 * df.loc[(ratio, wt, vc), 'ResponseTime (ms)'].unstack().T.mean().mean()\n",
    "                    il[i] = (1 / values[i]) * 1000 * (jobs) * 2\n",
    "                    \n",
    "            plt.errorbar(xs , values, std, label='AVG of %d reps %d WTs' % (max(runs), wt), capsize=3)\n",
    "            ax.set_xlim(xmin=0, xmax=max(xs))\n",
    "            plt.xticks(xs)\n",
    "            plt.xlabel('Virtual Clients')\n",
    "            plt.ylabel('Response Time (msec)')\n",
    "            fontP = FontProperties()\n",
    "            fontP.set_size('small')\n",
    "            plt.legend(loc='best', frameon=False)\n",
    "            plt.grid(b=True, which='major', axis='both', color='0.6', linestyle='dotted')\n",
    "            rts.append(values)    \n",
    "            stds.append(std)\n",
    "            ils.append(il)\n",
    "            whole.append(values)\n",
    "            whole_stds.append(std)\n",
    "            \n",
    "        if system == 'mt':\n",
    "            title = 'MEMTIER'\n",
    "        else:\n",
    "            title = 'MIDDLEWARE'\n",
    "        if ratio == '1:0':\n",
    "            op = 'write-only'\n",
    "        else:\n",
    "            op = 'read-only'\n",
    "            \n",
    "        plt.title(\"%s %s\" % (title, op))\n",
    "        plt.ylim(0, np.max(whole) + np.amax(whole_stds))\n",
    "        filename = ('rt_%s_%s' % (title, op)).lower()\n",
    "        plt.savefig('img/%s.png' % filename, bbox_inches='tight')\n",
    "        \n",
    "    return rts, stds, ils"
   ]
  },
  {
   "cell_type": "code",
   "execution_count": 14,
   "metadata": {},
   "outputs": [],
   "source": [
    "def get_avg_tp(df, ratios, worker_threads, vclients, runs, ils, threads, instances, clients):\n",
    "    tps = []\n",
    "    stds = []\n",
    "    xs = [x * threads * instances * clients for x in vclients] \n",
    "    system = 'mt' if len(df.columns) < 3 else 'mw'\n",
    "    l = 0\n",
    "    \n",
    "    for ratio in (ratios):\n",
    "        fig, ax = plt.subplots()\n",
    "        for j, wt in enumerate(worker_threads):\n",
    "            values = [.0] * len(vclients)\n",
    "            std = [.0] * len(vclients)\n",
    "            for i, vc in enumerate(vclients):\n",
    "                if system == 'mt':\n",
    "                    values[i] = df.unstack().loc[(ratio, wt, vc), 'Throughput (ops/s)'].T.sum().unstack().T.sum().mean()\n",
    "                    std[i] = np.std(df.unstack().loc[(ratio, wt, vc), 'Throughput (ops/s)'].T.sum().unstack().T.sum())\n",
    "                else:\n",
    "                    values[i] = df.unstack().loc[(ratio, wt, vc), 'Throughput (ops/s)'].T.sum().mean()\n",
    "                    std[i] = np.std(df.unstack().loc[(ratio, wt, vc), 'Throughput (ops/s)'].T.sum().values.tolist())\n",
    "                    \n",
    "            plt.errorbar(xs, values, std, label='AVG of %d reps %d WTs' % (max(runs), wt), capsize=3)\n",
    "            plt.plot(xs, ils[l], label='IL %d WTs' % wt, linestyle='--')\n",
    "            ax.set_xlim(xmin=0, xmax=max(xs))\n",
    "            plt.xticks(xs)\n",
    "            plt.xlabel('Virtual Clients')\n",
    "            plt.ylabel('Throughput (Ops/sec)')\n",
    "            plt.legend(loc='best', frameon=False, ncol=2)\n",
    "            plt.grid(b=True, which='major', axis='both', color='0.6', linestyle='dotted')\n",
    "            k_formatter = lambda v, p: str(float(v / 1000)) + 'k'\n",
    "            ax.yaxis.set_major_formatter(ticker.FuncFormatter(k_formatter))\n",
    "            tps.append(values)\n",
    "            stds.append(std)\n",
    "            l+=1\n",
    "            \n",
    "        if system == 'mt':\n",
    "            title = 'MEMTIER'\n",
    "        else:\n",
    "            title = 'MIDDLEWARE'\n",
    "        if ratio == '1:0':\n",
    "            op = 'write-only'\n",
    "        else:\n",
    "            op = 'read-only'\n",
    "            \n",
    "        plt.title(\"%s %s\" % (title, op))\n",
    "        plt.ylim(0, 19000)\n",
    "        filename = ('tp_%s_%s' % (title, op)).lower()\n",
    "        plt.savefig('img/%s.png' % filename, bbox_inches='tight')\n",
    "        \n",
    "    return tps, stds"
   ]
  },
  {
   "cell_type": "code",
   "execution_count": 16,
   "metadata": {},
   "outputs": [
    {
     "data": {
      "image/png": "[encoded data removed]",
      "text/plain": [
       "<Figure size 432x288 with 1 Axes>"
      ]
     },
     "metadata": {
      "needs_background": "light"
     },
     "output_type": "display_data"
    },
    {
     "data": {
      "image/png": "[encoded data removed]",
      "text/plain": [
       "<Figure size 432x288 with 1 Axes>"
      ]
     },
     "metadata": {
      "needs_background": "light"
     },
     "output_type": "display_data"
    },
    {
     "data": {
      "image/png": "[encoded data removed]",
      "text/plain": [
       "<Figure size 432x288 with 1 Axes>"
      ]
     },
     "metadata": {
      "needs_background": "light"
     },
     "output_type": "display_data"
    },
    {
     "data": {
      "image/png": "[encoded data removed]",
      "text/plain": [
       "<Figure size 432x288 with 1 Axes>"
      ]
     },
     "metadata": {
      "needs_background": "light"
     },
     "output_type": "display_data"
    }
   ],
   "source": [
    "timestamp = '20181210011903'\n",
    "log_dir = 'logs/%s/' % timestamp\n",
    "\n",
    "logs = [f for f in listdir(log_dir) if fnmatch(f, '*.log')]\n",
    "\n",
    "m = '^ratio(.*)'\n",
    "memtier_logs = [f for f in logs if match(m, f)]\n",
    "mw = '^stats(.*)'\n",
    "middleware_logs = [f for f in logs if match(mw, f)]\n",
    "\n",
    "ratios = ['0:1']\n",
    "runs = [x for x in range(1, 3 + 1)] \n",
    "instances = [x for x in range(1, 2 + 1)]\n",
    "threads = 1 \n",
    "clients = [x for x in range(1, 3 + 1)]\n",
    "vclients = [32]\n",
    "worker_threads = [8, 32]\n",
    "mws = [x for x in range(1, 2 + 1)]\n",
    "\n",
    "mt_multi_index = [ratios, worker_threads, vclients, runs, clients, instances]\n",
    "mw_multi_index = [ratios, worker_threads, vclients, runs, mws]\n",
    "\n",
    "mt_len_index = len(ratios) * len(worker_threads) * len(vclients) * len(runs) * len(clients) * len(instances)\n",
    "mw_len_index = len(mws) * len(ratios) * len(worker_threads) * len(vclients) * len(runs)\n",
    "\n",
    "mt_names=['ratio', 'WTS', 'VCs', 'run', 'client', 'instance']\n",
    "mw_names=['ratio', 'WTS', 'VCs', 'run', 'mw']\n",
    "\n",
    "mt_index = pd.MultiIndex.from_product(mt_multi_index, names=mt_names)\n",
    "mw_index = pd.MultiIndex.from_product(mw_multi_index, names=mw_names)\n",
    "columns = ['Throughput (ops/s)', 'ResponseTime (ms)']\n",
    "pd.set_option(\"display.precision\", 2)\n",
    "\n",
    "mt_template = pd.DataFrame([[.0] * len(columns)] * mt_len_index, index=mt_index, columns=columns)\n",
    "columns += ['Jobs', 'ServiceTime (ms)', 'WaitingTime (ms)', 'QueueSize']\n",
    "mw_template = pd.DataFrame([[.0] * len(columns)] * mw_len_index, index=mw_index, columns=columns)\n",
    "\n",
    "for log_file in memtier_logs: \n",
    "\n",
    "    ratio = get_ratio(log_file) \n",
    "    run = get_run(log_file)\n",
    "    vcs = get_vcs(log_file)\n",
    "    client = get_client(log_file)\n",
    "    instance = get_instance(log_file)\n",
    "    wts = get_worker_threads(log_file)\n",
    "\n",
    "    content = parse_content(log_dir, log_file)\n",
    "    \n",
    "    avg_tp = sum(d['ops'] for d in content) / len(content)\n",
    "    avg_rt = sum(d['rt'] for d in content) / len(content)\n",
    "   \n",
    "    mt_template.loc[(ratio, wts, vcs, run, client, instance), 'Throughput (ops/s)'] = avg_tp\n",
    "    mt_template.loc[(ratio, wts, vcs, run, client, instance), 'ResponseTime (ms)'] = avg_rt\n",
    "    \n",
    "for log_file in middleware_logs:\n",
    "    ratio = get_ratio(log_file, True) \n",
    "    run = get_run(log_file, True)\n",
    "    vcs = get_vcs(log_file, True)\n",
    "    wts = get_worker_threads(log_file, True)\n",
    "    mw = get_mw(log_file)\n",
    "\n",
    "    with (open(log_dir+log_file, 'r')) as file:\n",
    "        lines = file.readlines()\n",
    "\n",
    "        offset = -1\n",
    "        for i, line in enumerate(lines):\n",
    "            if \"Interval\" in line:\n",
    "                offset = i\n",
    "\n",
    "        table = pd.read_table(log_dir+log_file, skiprows=1, engine='python', nrows=offset-1, skipinitialspace=True, sep=',\\s*', index_col=0, names=['Elapsed Time', 'AVG Throughput', 'AVG Queue Size', 'AVG Waiting Time', 'AVG Service Time', 'AVG Response Time', 'AVG SET Response Time', 'AVG GET Response Time', 'AVG MULTI-GET Response Time', '#SETS', '#GETS', '#MULTIGETS', 'GET MissRatio', 'MULTI-GET MissRatio', 'AVG MULTI-GET Size'])\n",
    "        table = table.astype('float32')\n",
    "        \n",
    "        sets = table['#SETS'].sum()\n",
    "        gets = table['#GETS'].sum()\n",
    "        multi = table['#MULTIGETS'].sum()\n",
    "        \n",
    "        mw_template.loc[(ratio, wts, vcs, run, mw), 'Throughput (ops/s)'] = table['AVG Throughput'].values[1:-1].mean()\n",
    "        mw_template.loc[(ratio, wts, vcs, run, mw), 'ResponseTime (ms)'] = table['AVG Response Time'].values[1:-1].mean()\n",
    "        if ratio == '1:0':\n",
    "            mw_template.loc[(ratio, wts, vcs, run, mw), 'Jobs'] = table['#SETS'].sum()\n",
    "        else:\n",
    "            mw_template.loc[(ratio, wts, vcs, run, mw), 'Jobs'] = table['#GETS'].sum()\n",
    "        mw_template.loc[(ratio, wts, vcs, run, mw), 'ServiceTime (ms)'] = table['AVG Service Time'].values[1:-1].mean()\n",
    "        mw_template.loc[(ratio, wts, vcs, run, mw), 'WaitingTime (ms)'] = table['AVG Waiting Time'].values[1:-1].mean()\n",
    "        mw_template.loc[(ratio, wts, vcs, run, mw), 'QueueSize'] = table['AVG Queue Size'].values[1:-1].mean()\n",
    "        \n",
    "rts, stds, ils = get_avg_rt(mt_template, ratios, worker_threads, vclients, runs, threads, len(instances), len(clients))\n",
    "tps, stds = get_avg_tp(mt_template, ratios, worker_threads, vclients, runs, ils, threads, len(instances), len(clients))\n",
    "\n",
    "dump_csv(mt_template, 'out/memtier_data.csv')\n",
    "ils =[]\n",
    "\n",
    "rts, stds, ils = get_avg_rt(mw_template, ratios, worker_threads, vclients, runs, threads, len(instances), len(clients))\n",
    "tps, stds = get_avg_tp(mw_template, ratios, worker_threads, vclients, runs, ils, threads, len(instances), len(clients))\n",
    "\n",
    "dump_csv(mw_template, 'out/middleware_data.csv')"
   ]
  },
  {
   "cell_type": "code",
   "execution_count": null,
   "metadata": {},
   "outputs": [],
   "source": []
  },
  {
   "cell_type": "code",
   "execution_count": null,
   "metadata": {},
   "outputs": [],
   "source": []
  }
 ],
 "metadata": {
  "kernelspec": {
   "display_name": "Python 3",
   "language": "python",
   "name": "python3"
  },
  "language_info": {
   "codemirror_mode": {
    "name": "ipython",
    "version": 3
   },
   "file_extension": ".py",
   "mimetype": "text/x-python",
   "name": "python",
   "nbconvert_exporter": "python",
   "pygments_lexer": "ipython3",
   "version": "3.6.3"
  }
 },
 "nbformat": 4,
 "nbformat_minor": 2
}
