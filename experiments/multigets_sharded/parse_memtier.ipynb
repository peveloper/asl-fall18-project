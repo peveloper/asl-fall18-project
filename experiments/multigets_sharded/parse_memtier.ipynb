{
 "cells": [
  {
   "cell_type": "code",
   "execution_count": 32,
   "metadata": {},
   "outputs": [],
   "source": [
    "from os import listdir\n",
    "from os.path import isfile\n",
    "from fnmatch import fnmatch\n",
    "from math import isnan, ceil\n",
    "from pprint import pprint\n",
    "from statistics import median\n",
    "from re import match, split\n",
    "\n",
    "import pandas as pd\n",
    "import numpy as np\n",
    "import matplotlib.pyplot as plt\n",
    "import matplotlib.ticker as ticker\n",
    "from matplotlib.font_manager import FontProperties"
   ]
  },
  {
   "cell_type": "code",
   "execution_count": 33,
   "metadata": {},
   "outputs": [],
   "source": [
    "def get_ratio(filename, mw=False):\n",
    "    i = 0\n",
    "    if mw:\n",
    "        i = 1\n",
    "    return filename.split('_')[i].replace('ratio','')"
   ]
  },
  {
   "cell_type": "code",
   "execution_count": 34,
   "metadata": {},
   "outputs": [],
   "source": [
    "def get_run(filename, mw=False):\n",
    "    i = 1\n",
    "    if mw:\n",
    "        i = 2\n",
    "    return int(filename.split('_')[i].replace('run',''))"
   ]
  },
  {
   "cell_type": "code",
   "execution_count": 35,
   "metadata": {},
   "outputs": [],
   "source": [
    "def get_vcs(filename, mw=False):\n",
    "    i = 2\n",
    "    if mw:\n",
    "        i = 3\n",
    "    return int(filename.split('_')[i].replace('vclients',''))"
   ]
  },
  {
   "cell_type": "code",
   "execution_count": 36,
   "metadata": {},
   "outputs": [],
   "source": [
    "def get_worker_threads(filename, mw=False):\n",
    "    i = 3\n",
    "    if mw:\n",
    "        i = 4 \n",
    "        return int(filename.split('_')[i].replace('workerthreads', '').replace('.log', ''))\n",
    "    return int(filename.split('_')[i].replace('workerthreads', ''))"
   ]
  },
  {
   "cell_type": "code",
   "execution_count": 37,
   "metadata": {},
   "outputs": [],
   "source": [
    "def get_client(filename):\n",
    "    return int(filename.split('_')[4].replace('client', ''))"
   ]
  },
  {
   "cell_type": "code",
   "execution_count": 38,
   "metadata": {},
   "outputs": [],
   "source": [
    "def get_instance(filename):\n",
    "    return int(filename.split('_')[-1].replace('instance','').replace('.log', ''))"
   ]
  },
  {
   "cell_type": "code",
   "execution_count": 39,
   "metadata": {},
   "outputs": [],
   "source": [
    "def get_mw(filename):\n",
    "    return int(filename.split('_')[0].replace('stats', ''))"
   ]
  },
  {
   "cell_type": "code",
   "execution_count": 40,
   "metadata": {},
   "outputs": [],
   "source": [
    "def roundup(x):\n",
    "    return int(ceil(x / 1.0)) * 1"
   ]
  },
  {
   "cell_type": "code",
   "execution_count": 41,
   "metadata": {},
   "outputs": [],
   "source": [
    "def parse_mt_content(path, filename):\n",
    "    secs_pat = '\\[RUN #1 \\d+%,\\s+(\\d+) secs'\n",
    "    SECS = 70.0\n",
    "    GET_TOTAL = 0.0\n",
    "    SET_TOTAL = 0.0\n",
    "    approx_rt = []\n",
    "    percent = 0.0\n",
    "\n",
    "    with (open(path+filename, 'r')) as file:\n",
    "        for line in file.readlines():\n",
    "            m = match(secs_pat, line)\n",
    "            if line.startswith('Sets'):\n",
    "                m = match(\"Sets\\s+(\\d+.\\d+)\", line)\n",
    "                SET_TOTAL = SECS * float(m.group(1))\n",
    "            elif line.startswith('Gets'):\n",
    "                m = match(\"Gets\\s+(\\d+.\\d+)\", line)\n",
    "                GET_TOTAL = SECS * float(m.group(1))\n",
    "            elif line.startswith('GET'):\n",
    "                m = match(\"GET\\s+(\\d+.\\d+)\\s+(\\d+.\\d+)\", line)\n",
    "                count = (float(m.group(2)) - percent) / 100.0 * GET_TOTAL\n",
    "                percent = float(m.group(2))\n",
    "                approx_rt.extend([float(m.group(1))] * int(count))\n",
    "    return approx_rt"
   ]
  },
  {
   "cell_type": "code",
   "execution_count": 42,
   "metadata": {},
   "outputs": [],
   "source": [
    "def parse_mw_content(path, filename, GET_TOTAL):\n",
    "#     secs_pat = '\\[RUN #1 \\d+%,\\s+(\\d+) secs'\n",
    "    SECS = 70.0\n",
    "    approx_rt = []\n",
    "\n",
    "    with (open(path+filename, 'r')) as file:\n",
    "        for line in file.readlines():\n",
    "            if line.startswith('GET'):\n",
    "                m = match(\"GET,\\s+(\\d+.\\d+),\\s+(\\d+)\\n\", line)\n",
    "                count = (float(m.group(2))) / 100.0 * GET_TOTAL\n",
    "                approx_rt.extend([float(m.group(1))] * int(count))\n",
    "    return approx_rt"
   ]
  },
  {
   "cell_type": "code",
   "execution_count": 43,
   "metadata": {},
   "outputs": [],
   "source": [
    "def dump_csv(df, filename):\n",
    "    df.to_csv(filename, float_format='%.2f')\n",
    "    return"
   ]
  },
  {
   "cell_type": "code",
   "execution_count": 44,
   "metadata": {},
   "outputs": [],
   "source": [
    "def get_avg_rt(df, ratios, worker_threads, vclients, runs, threads, instances, clients):\n",
    "    rts = []\n",
    "    stds = []\n",
    "    ils = []\n",
    "    system = 'mt' if len(df.columns) < 3 else 'mw'\n",
    "    fig, ax = plt.subplots()\n",
    "    width = 20\n",
    "    base = 5\n",
    "    separator = 2\n",
    "    prev = base\n",
    "    xticks = []\n",
    "    xticklabels = []\n",
    "    for j, ratio in enumerate(ratios):\n",
    "        mget = ratio.split(':')[-1]\n",
    "        whole = []\n",
    "        cols = ['ResponseTime (ms)', '25', '50', '75', '90', '99']\n",
    "        values = []\n",
    "        xs = []\n",
    "        \n",
    "        for i, col in enumerate(cols):\n",
    "            if system == 'mt':\n",
    "                values.append(df.unstack().loc[(ratio, worker_threads[0], vclients[0]), col].T.mean().unstack().T.mean().mean())\n",
    "            else:\n",
    "                values.append(df.unstack().loc[(ratio, worker_threads[0], vclients[0]), col].T.mean().mean())\n",
    "            x = int(prev + width + separator)\n",
    "            xs.append(x)\n",
    "            prev = x\n",
    "            \n",
    "        prev += width\n",
    "        \n",
    "        xticks.extend(xs)\n",
    "        cols[0] = 'AVG RT'\n",
    "        xticklabels.extend(cols)\n",
    "        \n",
    "        bs = plt.bar(xs, values, width)\n",
    "        \n",
    "    ax.set_xticks(xticks)\n",
    "    ax.set_xticklabels(xticklabels)\n",
    "    ax.set_axisbelow(True)\n",
    "    \n",
    "    plt.grid(b=True, which='major', axis='y', color='0.65', linestyle='dotted')\n",
    "    plt.ylabel(\"Response Time (msec)\")\n",
    "    plt.legend(labels=['%d KEYs' % x for x in [1, 3, 6, 9]], frameon=False, loc='top', ncol=2)\n",
    "    if system == 'mt':\n",
    "        title = 'MEMTIER'\n",
    "    else:\n",
    "        title = 'MIDDLEWARE'\n",
    "    \n",
    "    op = 'multigets_sharded' \n",
    "    for tick in ax.xaxis.get_major_ticks():\n",
    "        tick.label.set_fontsize('x-small')\n",
    "        tick.label.set_rotation('vertical')\n",
    "    \n",
    "    filename = ('rt_%s_%s' % (title, op)).lower()\n",
    "    plt.savefig('img/%s.png' % filename, bbox_inches='tight')\n",
    "\n",
    "    return rts, stds"
   ]
  },
  {
   "cell_type": "code",
   "execution_count": 45,
   "metadata": {},
   "outputs": [
    {
     "data": {
      "image/png": "[encoded data removed]",
      "text/plain": [
       "<Figure size 432x288 with 1 Axes>"
      ]
     },
     "metadata": {
      "needs_background": "light"
     },
     "output_type": "display_data"
    },
    {
     "data": {
      "image/png": "[encoded data removed]",
      "text/plain": [
       "<Figure size 432x288 with 1 Axes>"
      ]
     },
     "metadata": {
      "needs_background": "light"
     },
     "output_type": "display_data"
    }
   ],
   "source": [
    "timestamp = '20181114183706'\n",
    "log_dir = 'logs/%s/' % timestamp\n",
    "\n",
    "logs = [f for f in listdir(log_dir) if fnmatch(f, '*.log')]\n",
    "\n",
    "m = '^ratio(.*)'\n",
    "memtier_logs = [f for f in logs if match(m, f)]\n",
    "mw = '^stats(.*)'\n",
    "middleware_logs = [f for f in logs if match(mw, f)]\n",
    "\n",
    "ratios = ['1:1', '1:9', '1:18', '1:27']\n",
    "runs = [x for x in range(1, 3 + 1)] \n",
    "instances = [x for x in range(1, 2 + 1)]\n",
    "threads = 1 \n",
    "clients = [x for x in range(1, 3 + 1)]\n",
    "vclients = [2]\n",
    "worker_threads = [64]\n",
    "mws = [x for x in range(1, 2 + 1)]\n",
    "\n",
    "mt_multi_index = [ratios, worker_threads, vclients, runs, clients, instances]\n",
    "mw_multi_index = [ratios, worker_threads, vclients, runs, mws]\n",
    "\n",
    "mt_len_index = len(ratios) * len(worker_threads) * len(vclients) * len(runs) * len(clients) * len(instances)\n",
    "mw_len_index = len(ratios) * len(worker_threads) * len(vclients) * len(runs) * len(mws)\n",
    "\n",
    "mt_names=['ratio', 'WTS', 'VCs', 'run', 'client', 'instance']\n",
    "mw_names=['ratio', 'WTS', 'VCs', 'run', 'mw']\n",
    "\n",
    "mt_index = pd.MultiIndex.from_product(mt_multi_index, names=mt_names)\n",
    "mw_index = pd.MultiIndex.from_product(mw_multi_index, names=mw_names)\n",
    "\n",
    "thresholds = [25, 50, 75, 90, 99]\n",
    "columns = ['Throughput (ops/s)', 'ResponseTime (ms)']\n",
    "columns = columns + [str(x) for x in thresholds]\n",
    "pd.set_option(\"display.precision\", 2)\n",
    "\n",
    "mt_template = pd.DataFrame([[.0] * len(columns)] * mt_len_index, index=mt_index, columns=columns)\n",
    "columns = ['Throughput (ops/s)', 'ResponseTime (ms)', 'Jobs', 'ServiceTime (ms)', 'WaitingTime (ms)', 'QueueSize']\n",
    "mw_template = pd.DataFrame([[.0] * len(columns)] * mw_len_index, index=mw_index, columns=columns)\n",
    "\n",
    "approx_rt = []\n",
    "\n",
    "for log_file in memtier_logs: \n",
    "\n",
    "    ratio = get_ratio(log_file) \n",
    "    run = get_run(log_file)\n",
    "    vcs = get_vcs(log_file)\n",
    "    client = get_client(log_file)\n",
    "    instance = get_instance(log_file)\n",
    "    wts = get_worker_threads(log_file)\n",
    "\n",
    "    table_offset = 0\n",
    "    i=0\n",
    "    \n",
    "    avg_rt = parse_mt_content(log_dir, log_file)\n",
    "    \n",
    "    percentiles = np.percentile(avg_rt, thresholds)\n",
    "    \n",
    "    if ratio == '1:18':\n",
    "        approx_rt.extend(avg_rt)\n",
    "    \n",
    "    mt_template.loc[(ratio, wts, vcs, run, client, instance), 'ResponseTime (ms)'] = np.mean(avg_rt)\n",
    "    \n",
    "    for t, p in zip(thresholds, percentiles):\n",
    "        mt_template.loc[(ratio, wts, vcs, run, client, instance), str(t)] = p\n",
    "    \n",
    "approx_rt.sort()\n",
    "fig, ax = plt.subplots()\n",
    "plt.rcParams[\"patch.force_edgecolor\"] = True\n",
    "plt.title(\"MEMTIER MULTIGET\")\n",
    "plt.xlabel(\"Response time (ms)\")\n",
    "plt.ylabel(\"% of total ops\")\n",
    "\n",
    "xs = approx_rt\n",
    "ax.set_yticks(np.arange(0, 0.5, 0.05))\n",
    "percent_formatter = lambda v, p: \"{:d}%\".format(int(v * 100.0))\n",
    "ax.yaxis.set_major_formatter(ticker.FuncFormatter(percent_formatter))\n",
    "\n",
    "\n",
    "bin_size = 1.0\n",
    "bins = [ 0 + i * bin_size for i in range(int(30/bin_size)) ]\n",
    "\n",
    "ax.set_ylim(ymin=0, ymax=0.25)\n",
    "\n",
    "ax.set_axisbelow(True)\n",
    "plt.grid(b=True, which='major', axis='y', color='0.6', linestyle='dotted')\n",
    "\n",
    "weights = np.ones_like(xs)/float(len(xs))\n",
    "n, bins, patches = plt.hist(xs, bins=bins, weights=weights, histtype='bar', ec='black', linewidth=1)\n",
    "plt.hist(xs, bins=bins, weights=weights, label=\"6 KEYs\")\n",
    "plt.legend(frameon=False)\n",
    "\n",
    "fig.savefig('img/rt_distribution_memtier_multigets_sharded.png', bbox_inches='tight')\n",
    "\n",
    "plt.rcParams[\"patch.force_edgecolor\"] = False\n",
    "rts, stds = get_avg_rt(mt_template, ratios, worker_threads, vclients, runs, threads, len(instances), len(clients))\n",
    "\n",
    "approx_rt = []\n",
    "get_total = 0\n",
    "\n",
    "for log_file in middleware_logs:\n",
    "    ratio = get_ratio(log_file, True) \n",
    "    run = get_run(log_file, True)\n",
    "    vcs = get_vcs(log_file, True)\n",
    "    wts = get_worker_threads(log_file, True)\n",
    "    mw = get_mw(log_file)\n",
    "    \n",
    "    with (open(log_dir+log_file, 'r')) as file:\n",
    "        lines = file.readlines()\n",
    "\n",
    "        offset = -1\n",
    "        for i, line in enumerate(lines):\n",
    "            if \"Interval\" in line:\n",
    "                offset = i\n",
    "\n",
    "        table = pd.read_table(log_dir+log_file, skiprows=1, engine='python', nrows=offset -1, skipinitialspace=True, sep=',\\s*', index_col=0, names=['Elapsed Time', 'AVG Throughput', 'AVG Queue Size', 'AVG Waiting Time', 'AVG Service Time', 'AVG Response Time', 'AVG SET Response Time', 'AVG GET Response Time', 'AVG MULTI-GET Response Time', '#SETS', '#GETS', '#MULTIGETS', 'GET MissRatio', 'MULTI-GET MissRatio', 'AVG MULTI-GET Size'])\n",
    "        table = table.astype('float32')\n",
    "        \n",
    "        sets = table['#SETS'].sum()\n",
    "        gets = table['#GETS'].sum()\n",
    "        multi = table['#MULTIGETS'].sum()\n",
    "        \n",
    "        mw_template.loc[(ratio, wts, vcs, run, mw), 'Throughput (ops/s)'] = table['AVG Throughput'].values[1:-1].mean()\n",
    "        mw_template.loc[(ratio, wts, vcs, run, mw), 'ResponseTime (ms)'] = table['AVG Response Time'].values[1:-1].mean()\n",
    "        if ratio == '1:0':\n",
    "            mw_template.loc[(ratio, wts, vcs, run, mw), 'Jobs'] = table['#SETS'].sum()\n",
    "        else:\n",
    "            mw_template.loc[(ratio, wts, vcs, run, mw), 'Jobs'] = table['#GETS'].sum()\n",
    "        mw_template.loc[(ratio, wts, vcs, run, mw), 'ServiceTime (ms)'] = table['AVG Service Time'].values[1:-1].mean()\n",
    "        mw_template.loc[(ratio, wts, vcs, run, mw), 'WaitingTime (ms)'] = table['AVG Waiting Time'].values[1:-1].mean()\n",
    "        mw_template.loc[(ratio, wts, vcs, run, mw), 'QueueSize'] = table['AVG Queue Size'].values[1:-1].mean()\n",
    "        \n",
    "        get_total = gets + multi\n",
    "    \n",
    "    avg_rt = parse_mw_content(log_dir, log_file, get_total)\n",
    "\n",
    "    if ratio == '1:18':\n",
    "        approx_rt.extend(avg_rt)\n",
    "        \n",
    "\n",
    "approx_rt.sort()\n",
    "\n",
    "dump_csv(mt_template, 'out/memtier_data.csv')\n",
    "dump_csv(mw_template, 'out/middleware_data.csv')\n"
   ]
  },
  {
   "cell_type": "code",
   "execution_count": 49,
   "metadata": {},
   "outputs": [
    {
     "name": "stdout",
     "output_type": "stream",
     "text": [
      "[ 0.  1.  2.  3.  4.  5.  6.  7.  8.  9. 10. 11. 12. 13. 14. 15. 16. 17.\n",
      " 18. 19. 20. 21. 22. 23. 24. 25. 26. 27. 28. 29.]\n"
     ]
    },
    {
     "data": {
      "image/png": "[encoded data removed]",
      "text/plain": [
       "<Figure size 432x288 with 1 Axes>"
      ]
     },
     "metadata": {
      "needs_background": "light"
     },
     "output_type": "display_data"
    }
   ],
   "source": [
    "fig, ax = plt.subplots()\n",
    "plt.rcParams[\"patch.force_edgecolor\"] = True\n",
    "plt.title(\"MIDDLEWARE MULTIGET\")\n",
    "plt.xlabel(\"Response time (ms)\")\n",
    "plt.ylabel(\"% of total ops\")\n",
    "\n",
    "xs = approx_rt\n",
    "ax.set_yticks(np.arange(0, 0.7, 0.05))\n",
    "percent_formatter = lambda v, p: \"{:d}%\".format(int(v * 100.0))\n",
    "ax.yaxis.set_major_formatter(ticker.FuncFormatter(percent_formatter))\n",
    "\n",
    "# ax.set_xticks(range(0, 30, 5))\n",
    "\n",
    "bin_size = 1.0\n",
    "bins = [ 0 + i * bin_size for i in range(int(30/bin_size)) ]\n",
    "# print(bins)\n",
    "\n",
    "ax.set_ylim(ymin=0, ymax=0.5)\n",
    "\n",
    "ax.set_axisbelow(True)\n",
    "plt.grid(b=True, which='major', axis='y', color='0.6', linestyle='dotted')\n",
    "# plt.legend(labels=[\"6 KEYS Distribution\"], frameon=False, loc='upper right')\n",
    "\n",
    "weights = np.ones_like(xs)/float(len(xs))\n",
    "n, bins, patches = plt.hist(xs, bins=bins, weights=weights, histtype='bar', ec='black', linewidth=1)\n",
    "print(bins)\n",
    "plt.hist(xs, bins=bins, weights=weights, label=\"6 KEYs\")\n",
    "plt.legend(frameon=False)\n",
    "\n",
    "fig.savefig('img/rt_distribution_middleware_multigets_sharded.png', bbox_inches='tight')"
   ]
  },
  {
   "cell_type": "code",
   "execution_count": null,
   "metadata": {},
   "outputs": [],
   "source": []
  }
 ],
 "metadata": {
  "kernelspec": {
   "display_name": "Python 3",
   "language": "python",
   "name": "python3"
  },
  "language_info": {
   "codemirror_mode": {
    "name": "ipython",
    "version": 3
   },
   "file_extension": ".py",
   "mimetype": "text/x-python",
   "name": "python",
   "nbconvert_exporter": "python",
   "pygments_lexer": "ipython3",
   "version": "3.6.3"
  }
 },
 "nbformat": 4,
 "nbformat_minor": 2
}
