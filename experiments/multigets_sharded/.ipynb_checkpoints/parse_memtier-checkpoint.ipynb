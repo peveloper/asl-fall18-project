{
 "cells": [
  {
   "cell_type": "code",
   "execution_count": 4,
   "metadata": {},
   "outputs": [],
   "source": [
    "from os import listdir\n",
    "from os.path import isfile\n",
    "from fnmatch import fnmatch\n",
    "from math import isnan, ceil\n",
    "from pprint import pprint\n",
    "from statistics import median\n",
    "from re import match, split\n",
    "\n",
    "import pandas as pd\n",
    "import numpy as np\n",
    "import matplotlib.pyplot as plt\n",
    "import matplotlib.ticker as ticker\n",
    "from matplotlib.font_manager import FontProperties"
   ]
  },
  {
   "cell_type": "code",
   "execution_count": 5,
   "metadata": {},
   "outputs": [],
   "source": [
    "def get_ratio(filename, mw=False):\n",
    "    i = 0\n",
    "    if mw:\n",
    "        i = 1\n",
    "    return filename.split('_')[i].replace('ratio','')"
   ]
  },
  {
   "cell_type": "code",
   "execution_count": 6,
   "metadata": {},
   "outputs": [],
   "source": [
    "def get_run(filename, mw=False):\n",
    "    i = 1\n",
    "    if mw:\n",
    "        i = 2\n",
    "    return int(filename.split('_')[i].replace('run',''))"
   ]
  },
  {
   "cell_type": "code",
   "execution_count": 7,
   "metadata": {},
   "outputs": [],
   "source": [
    "def get_vcs(filename, mw=False):\n",
    "    i = 2\n",
    "    if mw:\n",
    "        i = 3\n",
    "    return int(filename.split('_')[i].replace('vclients',''))"
   ]
  },
  {
   "cell_type": "code",
   "execution_count": 8,
   "metadata": {},
   "outputs": [],
   "source": [
    "def get_worker_threads(filename, mw=False):\n",
    "    i = 3\n",
    "    if mw:\n",
    "        i = 4 \n",
    "        return int(filename.split('_')[i].replace('workerthreads', '').replace('.log', ''))\n",
    "    return int(filename.split('_')[i].replace('workerthreads', ''))"
   ]
  },
  {
   "cell_type": "code",
   "execution_count": 9,
   "metadata": {},
   "outputs": [],
   "source": [
    "def get_client(filename):\n",
    "    return int(filename.split('_')[4].replace('client', ''))"
   ]
  },
  {
   "cell_type": "code",
   "execution_count": 10,
   "metadata": {},
   "outputs": [],
   "source": [
    "def get_instance(filename):\n",
    "    return int(filename.split('_')[-1].replace('instance','').replace('.log', ''))"
   ]
  },
  {
   "cell_type": "code",
   "execution_count": 11,
   "metadata": {},
   "outputs": [],
   "source": [
    "def get_mw(filename):\n",
    "    return int(filename.split('_')[0].replace('stats', ''))"
   ]
  },
  {
   "cell_type": "code",
   "execution_count": 12,
   "metadata": {},
   "outputs": [],
   "source": [
    "def roundup(x):\n",
    "    return int(ceil(x / 1.0)) * 1"
   ]
  },
  {
   "cell_type": "code",
   "execution_count": 13,
   "metadata": {},
   "outputs": [],
   "source": [
    "def parse_content(path, filename):\n",
    "    secs_pat = '\\[RUN #1 \\d+%,\\s+(\\d+) secs'\n",
    "    SECS = 70.0\n",
    "    GET_TOTAL = 0.0\n",
    "    SET_TOTAL = 0.0\n",
    "    approx_rt = []\n",
    "    percent = 0.0\n",
    "\n",
    "    with (open(path+filename, 'r')) as file:\n",
    "        for line in file.readlines():\n",
    "            m = match(secs_pat, line)\n",
    "            if line.startswith('Sets'):\n",
    "                m = match(\"Sets\\s+(\\d+.\\d+)\", line)\n",
    "                SET_TOTAL = SECS * float(m.group(1))\n",
    "            elif line.startswith('Gets'):\n",
    "                m = match(\"Gets\\s+(\\d+.\\d+)\", line)\n",
    "                GET_TOTAL = SECS * float(m.group(1))\n",
    "            elif line.startswith('GET'):\n",
    "                m = match(\"GET\\s+(\\d+.\\d+)\\s+(\\d+.\\d+)\", line)\n",
    "                count = (float(m.group(2)) - percent) / 100.0 * GET_TOTAL\n",
    "                percent = float(m.group(2))\n",
    "                approx_rt.extend([float(m.group(1))] * int(count))\n",
    "    return approx_rt"
   ]
  },
  {
   "cell_type": "code",
   "execution_count": 32,
   "metadata": {},
   "outputs": [],
   "source": [
    "def get_avg_rt(df, typ, ratios, worker_threads, vclients, runs, threads, instances, clients):\n",
    "    rts = []\n",
    "    stds = []\n",
    "    ils = []\n",
    "    fig, ax = plt.subplots()\n",
    "    width = 20\n",
    "    base = 5\n",
    "    separator = 2\n",
    "    prev = base\n",
    "    xticks = []\n",
    "    xticklabels = []\n",
    "    for j, ratio in enumerate(ratios):\n",
    "        mget = ratio.split(':')[-1]\n",
    "        whole = []\n",
    "        cols = ['RT', '25th', '50th', '75th', '90th', '99th']\n",
    "        values = []\n",
    "        xs = []\n",
    "        \n",
    "        for i, col in enumerate(cols):\n",
    "            if typ == 'MT':\n",
    "                values.append(df.unstack().loc[(ratio, worker_threads[0], vclients[0]), col].T.mean().unstack().T.mean().mean())\n",
    "            else:\n",
    "                values.append((df.unstack().loc[(ratio, worker_threads[0], vclients[0]), col] + 0).T.mean().mean())\n",
    "            x = int(prev + width + separator)\n",
    "            xs.append(x)\n",
    "            prev = x\n",
    "            \n",
    "        prev += width\n",
    "        \n",
    "        xticks.extend(xs)\n",
    "        cols[0] = 'AVG RT'\n",
    "        xticklabels.extend(cols)\n",
    "        \n",
    "        bs = plt.bar(xs, values, width)\n",
    "        \n",
    "    ax.set_xticks(xticks)\n",
    "    ax.set_xticklabels(xticklabels)\n",
    "    ax.set_axisbelow(True)\n",
    "    \n",
    "    plt.grid(b=True, which='major', axis='y', color='0.65', linestyle='dotted')\n",
    "    plt.ylabel(\"Response Time (msec)\")\n",
    "    plt.legend(labels=['%d KEYs' % x for x in [1, 3, 6, 9]], frameon=False, loc='top', ncol=2)\n",
    "    if typ == 'MT':\n",
    "        title = 'MEMTIER'\n",
    "    else:\n",
    "        title = 'MIDDLEWARE'\n",
    "    \n",
    "    op = 'sharded_multigets' \n",
    "    for tick in ax.xaxis.get_major_ticks():\n",
    "        tick.label.set_fontsize('x-small')\n",
    "        tick.label.set_rotation('vertical')\n",
    "    \n",
    "    filename = ('rt_%s_%s' % (title, op)).lower()\n",
    "    plt.savefig('img/%s.png' % filename, bbox_inches='tight')\n",
    "\n",
    "    return rts, stds"
   ]
  },
  {
   "cell_type": "code",
   "execution_count": 47,
   "metadata": {},
   "outputs": [],
   "source": [
    "def get_rt_dist(df, typ, ratios, worker_threads, vclients, runs, threads, instances, clients):\n",
    "    rts = []\n",
    "    stds = []\n",
    "    ils = []\n",
    "    fig, ax = plt.subplots()\n",
    "    width = 20\n",
    "    base = 5\n",
    "    separator = 2\n",
    "    prev = base\n",
    "    xticks = []\n",
    "    xticklabels = []\n",
    "    whole = []\n",
    "    values = []\n",
    "    xs = []\n",
    "\n",
    "    print(df.loc['1:18', 'RT'])\n",
    "    df.loc['1:18', 'RT'].hist(bins=10, histtype='bar', ec='black')\n",
    "        \n",
    "    ax.set_axisbelow(True)\n",
    "    \n",
    "    plt.grid(b=True, which='major', axis='y', color='0.65', linestyle='dotted')\n",
    "    plt.ylabel(\"Response Time (msec)\")\n",
    "    plt.legend(labels=['%d KEYs' % x for x in [1, 3, 6, 9]], frameon=False, loc='top', ncol=2)\n",
    "    if typ == 'MT':\n",
    "        title = 'MEMTIER'\n",
    "    else:\n",
    "        title = 'MIDDLEWARE'\n",
    "    \n",
    "    op = 'sharded_multigets' \n",
    "    for tick in ax.xaxis.get_major_ticks():\n",
    "        tick.label.set_fontsize('x-small')\n",
    "        tick.label.set_rotation('vertical')\n",
    "    \n",
    "    filename = ('rt_%s_%s' % (title, op)).lower()\n",
    "    plt.savefig('img/%s.png' % filename, bbox_inches='tight')\n",
    "\n",
    "    return rts, stds"
   ]
  },
  {
   "cell_type": "code",
   "execution_count": 48,
   "metadata": {
    "scrolled": true
   },
   "outputs": [
    {
     "name": "stderr",
     "output_type": "stream",
     "text": [
      "/home/peveloper/.local/lib/python3.6/site-packages/ipykernel_launcher.py:16: PerformanceWarning: indexing past lexsort depth may impact performance.\n",
      "  app.launch_new_instance()\n"
     ]
    },
    {
     "data": {
      "image/png": "[encoded data removed]",
      "text/plain": [
       "<Figure size 432x288 with 1 Axes>"
      ]
     },
     "metadata": {
      "needs_background": "light"
     },
     "output_type": "display_data"
    },
    {
     "data": {
      "image/png": "[encoded data removed]",
      "text/plain": [
       "<Figure size 432x288 with 1 Axes>"
      ]
     },
     "metadata": {
      "needs_background": "light"
     },
     "output_type": "display_data"
    },
    {
     "data": {
      "image/png": "[encoded data removed]",
      "text/plain": [
       "<Figure size 432x288 with 1 Axes>"
      ]
     },
     "metadata": {
      "needs_background": "light"
     },
     "output_type": "display_data"
    }
   ],
   "source": [
    "timestamp = '20181114183706'\n",
    "log_dir = 'logs/%s/' % timestamp\n",
    "\n",
    "logs = [f for f in listdir(log_dir) if fnmatch(f, '*.log')]\n",
    "\n",
    "m = '^ratio(.*)'\n",
    "memtier_logs = [f for f in logs if match(m, f)]\n",
    "mw = '^stats(.*)'\n",
    "middleware_logs = [f for f in logs if match(mw, f)]\n",
    "\n",
    "ratios = ['1:1', '1:9', '1:18', '1:27']\n",
    "runs = [x for x in range(1, 3 + 1)] \n",
    "instances = [x for x in range(1, 2 + 1)]\n",
    "threads = 1 \n",
    "clients = [x for x in range(1, 3 + 1)]\n",
    "vclients = [2]\n",
    "worker_threads = [64]\n",
    "mws = [x for x in range(1, 2 + 1)]\n",
    "\n",
    "mt_multi_index = [ratios, worker_threads, vclients, runs, clients, instances]\n",
    "mw_multi_index = [ratios, worker_threads, vclients, runs, mws]\n",
    "\n",
    "mt_len_index = len(ratios) * len(worker_threads) * len(vclients) * len(runs) * len(clients) * len(instances)\n",
    "mw_len_index = len(ratios) * len(worker_threads) * len(vclients) * len(runs) * len(mws)\n",
    "\n",
    "mt_index = pd.MultiIndex.from_product(mt_multi_index, names=['ratio', 'WTS', 'VCs', 'run', 'client', 'instance'])\n",
    "mw_index = pd.MultiIndex.from_product(mw_multi_index,)\n",
    "thresholds = []\n",
    "columns = ['TP', 'RT', '10th', '20th', '30th', '40th', '60th', '70th', '80th', '100th', '25th', '50th', '75th', '90th', '99th']\n",
    "pd.set_option(\"display.precision\", 2)\n",
    "\n",
    "mt_template = pd.DataFrame([[.0] * len(columns)] * mt_len_index, index=mt_index, columns=columns)\n",
    "mw_template = pd.DataFrame([[.0] * len(columns)] * mw_len_index, index=mw_index, columns=columns)\n",
    "\n",
    "for log_file in memtier_logs: \n",
    "\n",
    "    ratio = get_ratio(log_file) \n",
    "    run = get_run(log_file)\n",
    "    vcs = get_vcs(log_file)\n",
    "    client = get_client(log_file)\n",
    "    instance = get_instance(log_file)\n",
    "    wts = get_worker_threads(log_file)\n",
    "\n",
    "    table_offset = 0\n",
    "    i=0\n",
    "    \n",
    "    avg_rt = parse_content(log_dir, log_file)\n",
    "    \n",
    "    mt_template.loc[(ratio, wts, vcs, run, client, instance), 'RT'] = np.mean(avg_rt)\n",
    "    \n",
    "    with (open(log_dir+log_file, 'r')) as file:\n",
    "        passed_25 = False\n",
    "        passed_50 = False\n",
    "        passed_75 = False\n",
    "        passed_90 = False\n",
    "        passed_99 = False \n",
    "        \n",
    "        lines = file.readlines()\n",
    "        \n",
    "        for line in lines:\n",
    "            contents = split(r\"\\s\", line)\n",
    "            contents = list(filter(None, contents))\n",
    "\n",
    "            if len(contents) < 3:\n",
    "                continue\n",
    "\n",
    "            if contents[0] == \"GET\" and float(contents[2]) > 25:\n",
    "                if not passed_25:\n",
    "                    mt_template.loc[(ratio, wts, vcs, run, client, instance), '25th'] = float(contents[1])\n",
    "                passed_25 = True\n",
    "            if contents[0] == \"GET\" and float(contents[2]) > 50:\n",
    "                if not passed_50:\n",
    "                    mt_template.loc[(ratio, wts, vcs, run, client, instance), '50th'] = float(contents[1])\n",
    "                passed_50 = True\n",
    "            if contents[0] == \"GET\" and float(contents[2]) > 75:\n",
    "                if not passed_75:\n",
    "                    mt_template.loc[(ratio, wts, vcs, run, client, instance), '75th'] = float(contents[1])\n",
    "                passed_75 = True\n",
    "            if contents[0] == \"GET\" and float(contents[2]) > 90:\n",
    "                if not passed_90:\n",
    "                    mt_template.loc[(ratio, wts, vcs, run, client, instance), '90th'] = float(contents[1])\n",
    "                passed_90 = True\n",
    "            if contents[0] == \"GET\" and float(contents[2]) > 99:\n",
    "                if not passed_99:\n",
    "                    mt_template.loc[(ratio, wts, vcs, run, client, instance), '99th'] = float(contents[1])\n",
    "                passed_99 = True\n",
    "        \n",
    "rts, stds = get_avg_rt(mt_template, 'MT', ratios, worker_threads, vclients, runs, threads, len(instances), len(clients))\n",
    "get_rt_dist(mt_template, 'MT', ratios, worker_threads, vclients, runs, threads, len(instances), len(clients))\n",
    "\n",
    "for log_file in middleware_logs:\n",
    "    ratio = get_ratio(log_file, True) \n",
    "    run = get_run(log_file, True)\n",
    "    vcs = get_vcs(log_file, True)\n",
    "    wts = get_worker_threads(log_file, True)\n",
    "    mw = get_mw(log_file)\n",
    "\n",
    "    with (open(log_dir+log_file, 'r')) as file:\n",
    "        lines = file.readlines()\n",
    "\n",
    "        h_offset = -1\n",
    "        g_offset = -1\n",
    "        \n",
    "        for i, line in enumerate(lines):\n",
    "            if \"Interval\" in line:\n",
    "                h_offset = i\n",
    "            if \"GET\" in line and h_offset != -1:\n",
    "                g_offset = i\n",
    "                break\n",
    "        table = pd.read_table(log_dir+log_file, skiprows=2, engine='python', nrows=h_offset -3, skipinitialspace=True, sep=',\\s*', index_col=0, names=['Elapsed Time', 'AVG Throughput', 'AVG Queue Size', 'AVG Waiting Time', 'AVG Service Time', 'AVG Response Time', 'AVG SET Response Time', 'AVG GET Response Time', 'AVG MULTI-GET Response Time', '#SETS', '#GETS', '#MULTIGETS', 'GET MissRatio', 'MULTI-GET MissRatio', 'AVG MULTI-GET Size'])\n",
    "        table = table.astype('float32')\n",
    "        \n",
    "        histo = pd.read_table(log_dir+log_file, skiprows=g_offset, engine='python', skipinitialspace=True, sep=',\\s*', index_col=[0], names=['Type', '<= msec', 'Requests'])\n",
    "        histo = histo.dropna()\n",
    "        histo = histo.astype('float32')\n",
    "        total = histo['Requests'].sum()\n",
    "        \n",
    "        histo['Percent'] =  histo['Requests'] * 100.0 / total\n",
    "        histo['Percent'] = histo['Percent'].cumsum()\n",
    "        \n",
    "        thresholds = [25, 50, 75, 90, 99]\n",
    "        \n",
    "        for j, col in enumerate(thresholds):\n",
    "            dt = histo.loc[histo['Percent'] <= float(col), '<= msec']\n",
    "            mw_template.loc[(ratio, wts, vcs, run, mw), '%dth' % col] = round(dt.values.tolist()[-1], 2)\n",
    "        \n",
    "        sets = table['#SETS'].sum()\n",
    "        gets = table['#GETS'].sum()\n",
    "        multi = table['#MULTIGETS'].sum()\n",
    "        \n",
    "        mw_template.loc[(ratio, wts, vcs, run, mw), 'TP'] = ((sets + gets + multi) / 70.0)\n",
    "        mw_template.loc[(ratio, wts, vcs, run, mw), 'RT'] = table['AVG Response Time'].mean()\n",
    "        \n",
    "rts, stds = get_avg_rt(mw_template, 'MW', ratios, worker_threads, vclients, runs, threads, len(instances), len(clients))"
   ]
  },
  {
   "cell_type": "code",
   "execution_count": null,
   "metadata": {},
   "outputs": [],
   "source": []
  },
  {
   "cell_type": "code",
   "execution_count": null,
   "metadata": {},
   "outputs": [],
   "source": []
  }
 ],
 "metadata": {
  "kernelspec": {
   "display_name": "Python 3",
   "language": "python",
   "name": "python3"
  },
  "language_info": {
   "codemirror_mode": {
    "name": "ipython",
    "version": 3
   },
   "file_extension": ".py",
   "mimetype": "text/x-python",
   "name": "python",
   "nbconvert_exporter": "python",
   "pygments_lexer": "ipython3",
   "version": "3.6.3"
  }
 },
 "nbformat": 4,
 "nbformat_minor": 2
}
