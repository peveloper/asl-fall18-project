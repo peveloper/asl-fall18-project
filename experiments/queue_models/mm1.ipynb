{
 "cells": [
  {
   "cell_type": "code",
   "execution_count": 36,
   "metadata": {},
   "outputs": [],
   "source": [
    "from os import listdir\n",
    "from os.path import isfile\n",
    "from fnmatch import fnmatch\n",
    "from math import isnan, ceil\n",
    "from pprint import pprint\n",
    "from statistics import median\n",
    "from re import match, search\n",
    "\n",
    "import pandas as pd\n",
    "import numpy as np\n",
    "import matplotlib.pyplot as plt\n",
    "import matplotlib.ticker as ticker\n",
    "from matplotlib.font_manager import FontProperties"
   ]
  },
  {
   "cell_type": "code",
   "execution_count": 37,
   "metadata": {},
   "outputs": [],
   "source": [
    "def dump_csv(df, filename):\n",
    "    df.to_csv(filename, float_format='%.4f')\n",
    "    return"
   ]
  },
  {
   "cell_type": "code",
   "execution_count": 54,
   "metadata": {
    "scrolled": true
   },
   "outputs": [
    {
     "name": "stdout",
     "output_type": "stream",
     "text": [
      "          Throughput (ops/s) ResponseTime (ms)    Jobs ServiceTime (ms)  \\\n",
      "ratio WTS                                                                 \n",
      "1:0   8              7943.05           21.5567  551813          1.90167   \n",
      "      16             10108.7            16.035  703496             3.01   \n",
      "      32             12988.6           11.3383  901133          4.59167   \n",
      "      64             13837.9             9.805  957898          6.89167   \n",
      "\n",
      "          WaitingTime (ms) QueueSize  ServiceRate (ops/s)       Rho     En_q  \\\n",
      "ratio WTS                                                                      \n",
      "1:0   8            19.5983   152.027              8043.53  0.987508  78.0662   \n",
      "      16           12.9583   124.613             10179.31  0.993063  142.163   \n",
      "      32           6.65333   79.3333             13086.54  0.992517  131.644   \n",
      "      64              2.76   28.3067             14130.31  0.979308  46.3487   \n",
      "\n",
      "                En       Ew       Er  \n",
      "ratio WTS                             \n",
      "1:0   8    79.0537  9.82824  9.95256  \n",
      "      16   143.156  14.0634  14.1616  \n",
      "      32   132.636  10.1353  10.2117  \n",
      "      64    47.328   3.3494  3.42017  \n"
     ]
    }
   ],
   "source": [
    "ratios = ['1:0']\n",
    "runs = [x for x in range(1, 3 + 1)] \n",
    "instances = [x for x in range(1, 2 + 1)]\n",
    "threads = 1 \n",
    "clients = [x for x in range(1, 3 + 1)]\n",
    "vclients = [1, 4, 8, 16, 24, 32]\n",
    "worker_threads = [8, 16, 32, 64]\n",
    "mws = [x for x in range(1, 2 + 1)]\n",
    "\n",
    "mw_multi_index = [ratios, worker_threads]\n",
    "mw_len_index = len(ratios) * len(worker_threads)\n",
    "\n",
    "mw_names=['ratio', 'WTS']\n",
    "\n",
    "mw_index = pd.MultiIndex.from_product(mw_multi_index, names=mw_names)\n",
    "columns = ['Throughput (ops/s)', 'ResponseTime (ms)']\n",
    "\n",
    "columns += ['Jobs', 'ServiceTime (ms)', 'WaitingTime (ms)', 'QueueSize']\n",
    "\n",
    "df = pd.read_csv('../throughput_for_writes/out/middleware_data.csv', index_col=[0,1,2,3,4])\n",
    "df1 = pd.DataFrame([], index=mw_index, columns=columns)\n",
    "\n",
    "for ratio in ratios:\n",
    "    for wt in worker_threads:\n",
    "        for vc in vclients:\n",
    "            row = []\n",
    "            for c in columns:\n",
    "                if 'ops/s' in c or 'Jobs' in c or 'Queue' in c:\n",
    "                    row.append(df.unstack().loc[(ratio, wt, vc), c].T.sum().mean())\n",
    "                else:\n",
    "                    row.append(df.unstack().loc[(ratio, wt, vc), c].T.mean().mean())\n",
    "        df1.loc[(ratio, wt)] = row\n",
    "            \n",
    "#Service rate is considered to be the max TP for each WT config, since, it constitutes a reasonable lower bound. \n",
    "\n",
    "df1['ServiceRate (ops/s)'] = pd.Series()\n",
    "df1['Rho'] = pd.Series()\n",
    "df1['En_q'] = pd.Series()\n",
    "df1['En'] = pd.Series()\n",
    "df1['Ew'] = pd.Series()\n",
    "\n",
    "for ratio in ratios:\n",
    "    for wt in worker_threads:\n",
    "        df1.loc[(ratio, wt), 'ServiceRate (ops/s)'] = df.unstack().loc[(ratio, wt), 'Throughput (ops/s)'].T.sum().max()\n",
    "# Utilization\n",
    "df1['Rho'] = df1['Throughput (ops/s)'] / df1['ServiceRate (ops/s)']\n",
    "# Expected number of Jobs in the system (w + s)\n",
    "df1['En'] = df1['Rho'] / (1 - df1['Rho'])\n",
    "# Expected number of Jobs in the queue(w)\n",
    "df1['En_q'] = pow(df1['Rho'], 2) / (1 - df1['Rho'])\n",
    "# Expected AVG Waiting Time in the queue(w)\n",
    "df1['Ew'] = df1['Rho'] * (1 / df1['ServiceRate (ops/s)']) / (1.0 - df1['Rho']) * 1000\n",
    "# Expected AVG Response Time\n",
    "df1['Er'] = (1.0 / (df1['ServiceRate (ops/s)'] * (1.0 - df1['Rho']))) * 1000\n",
    "\n",
    "dump_csv(df1, 'out/mm1.csv')"
   ]
  }
 ],
 "metadata": {
  "kernelspec": {
   "display_name": "Python 3",
   "language": "python",
   "name": "python3"
  },
  "language_info": {
   "codemirror_mode": {
    "name": "ipython",
    "version": 3
   },
   "file_extension": ".py",
   "mimetype": "text/x-python",
   "name": "python",
   "nbconvert_exporter": "python",
   "pygments_lexer": "ipython3",
   "version": "3.6.3"
  }
 },
 "nbformat": 4,
 "nbformat_minor": 2
}
