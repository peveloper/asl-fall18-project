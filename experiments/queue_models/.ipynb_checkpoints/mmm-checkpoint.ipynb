{
 "cells": [
  {
   "cell_type": "code",
   "execution_count": 2,
   "metadata": {},
   "outputs": [],
   "source": [
    "from os import listdir\n",
    "from os.path import isfile\n",
    "from fnmatch import fnmatch\n",
    "from math import isnan, ceil\n",
    "from pprint import pprint\n",
    "from statistics import median\n",
    "from re import match, search\n",
    "\n",
    "import pandas as pd\n",
    "import numpy as np\n",
    "import matplotlib.pyplot as plt\n",
    "import matplotlib.ticker as ticker\n",
    "from matplotlib.font_manager import FontProperties"
   ]
  },
  {
   "cell_type": "code",
   "execution_count": 3,
   "metadata": {},
   "outputs": [],
   "source": [
    "def dump_csv(df, filename):\n",
    "    df.to_csv(filename, float_format='%.4f')\n",
    "    return"
   ]
  },
  {
   "cell_type": "code",
   "execution_count": 1,
   "metadata": {
    "scrolled": true
   },
   "outputs": [
    {
     "ename": "SyntaxError",
     "evalue": "invalid syntax (<ipython-input-1-38fc06415877>, line 65)",
     "output_type": "error",
     "traceback": [
      "\u001b[0;36m  File \u001b[0;32m\"<ipython-input-1-38fc06415877>\"\u001b[0;36m, line \u001b[0;32m65\u001b[0m\n\u001b[0;31m    print(df1)\u001b[0m\n\u001b[0m        ^\u001b[0m\n\u001b[0;31mSyntaxError\u001b[0m\u001b[0;31m:\u001b[0m invalid syntax\n"
     ]
    }
   ],
   "source": [
    "ratios = ['1:0']\n",
    "runs = [x for x in range(1, 3 + 1)] \n",
    "instances = [x for x in range(1, 2 + 1)]\n",
    "threads = 1 \n",
    "clients = [x for x in range(1, 3 + 1)]\n",
    "vclients = [1, 4, 8, 16, 24, 32, 64]\n",
    "worker_threads = [8, 16, 32, 64]\n",
    "mws = [x for x in range(1, 2 + 1)]\n",
    "\n",
    "vclients = [64]\n",
    "mw_multi_index = [ratios, worker_threads, vclients]\n",
    "mw_len_index = len(ratios) * len(worker_threads) * len(vclients)\n",
    "\n",
    "mw_names=['ratio', 'WTS', 'VCs']\n",
    "\n",
    "mw_index = pd.MultiIndex.from_product(mw_multi_index, names=mw_names)\n",
    "columns = ['Throughput (ops/s)', 'ResponseTime (ms)']\n",
    "\n",
    "columns += ['Jobs', 'ServiceTime (ms)', 'WaitingTime (ms)', 'QueueSize']\n",
    "\n",
    "df = pd.read_csv('../throughput_for_writes/out/middleware_data.csv', index_col=[0,1,2,3,4])\n",
    "df1 = pd.DataFrame([], index=mw_index, columns=columns)\n",
    "\n",
    "for ratio in ratios:\n",
    "    for wt in worker_threads:\n",
    "        for vc in vclients:\n",
    "            row = []\n",
    "            for c in columns:\n",
    "                if 'ops/s' in c or 'Jobs' in c or 'Queue' in c:\n",
    "                    row.append(df.unstack().loc[(ratio, wt, vc), c].T.sum().mean())\n",
    "                else:\n",
    "                    row.append(df.unstack().loc[(ratio, wt, vc), c].T.mean().mean())\n",
    "            df1.loc[(ratio, wt, vc)] = row\n",
    "            \n",
    "#Service rate is considered to be the max TP for each WT config, since, it constitutes a reasonable lower bound. \n",
    "\n",
    "df1['ServiceRate (ops/s)'] = pd.Series()\n",
    "df1['Rho'] = pd.Series()\n",
    "df1['En_q'] = pd.Series()\n",
    "df1['En'] = pd.Series()\n",
    "df1['Ew'] = pd.Series()\n",
    "\n",
    "service = True\n",
    "\n",
    "for ratio in ratios:\n",
    "    for wt in worker_threads:\n",
    "        for vc in vclients:\n",
    "            if service:\n",
    "                df1.loc[(ratio, wt, vc), 'ServiceRate (ops/s)'] = df.unstack().loc[(ratio, wt, vc), 'Throughput (ops/s)'].T.sum().max()\n",
    "            else:\n",
    "                df1.loc[(ratio, wt, vc), 'ServiceRate (ops/s)'] = 1 / (df.unstack().loc[(ratio, wt, vc), 'ServiceTime (ms)'].T.mean().mean() / 1000\n",
    "            \n",
    "# # Utilization\n",
    "# df1['Rho'] = df1['Throughput (ops/s)'] / (2 * df1['ServiceRate (ops/s)'])\n",
    "# # Expected number of Jobs in the system (w + s)\n",
    "# df1['En'] = df1['Rho'] / (1 - df1['Rho'])\n",
    "# # Expected number of Jobs in the queue(w)\n",
    "# df1['En_q'] = pow(df1['Rho'], 2) / (1 - df1['Rho'])\n",
    "# # Expected AVG Waiting Time in the queue(w)\n",
    "# df1['Ew'] = df1['Rho'] * (1 / df1['ServiceRate (ops/s)']) / (1.0 - df1['Rho']) * 1000\n",
    "# # Expected AVG Response Time\n",
    "# df1['Er'] = (1.0 / (df1['ServiceRate (ops/s)'] * (1.0 - df1['Rho']))) * 1000\n",
    "\n",
    "# dump_csv(df1, 'out/mm1.csv')\n",
    "print(df1)"
   ]
  },
  {
   "cell_type": "code",
   "execution_count": null,
   "metadata": {},
   "outputs": [],
   "source": []
  }
 ],
 "metadata": {
  "kernelspec": {
   "display_name": "Python 3",
   "language": "python",
   "name": "python3"
  },
  "language_info": {
   "codemirror_mode": {
    "name": "ipython",
    "version": 3
   },
   "file_extension": ".py",
   "mimetype": "text/x-python",
   "name": "python",
   "nbconvert_exporter": "python",
   "pygments_lexer": "ipython3",
   "version": "3.6.3"
  }
 },
 "nbformat": 4,
 "nbformat_minor": 2
}
