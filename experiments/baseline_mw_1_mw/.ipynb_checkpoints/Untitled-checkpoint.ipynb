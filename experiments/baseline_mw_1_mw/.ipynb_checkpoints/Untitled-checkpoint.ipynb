{
 "cells": [
  {
   "cell_type": "code",
   "execution_count": 15,
   "metadata": {},
   "outputs": [],
   "source": [
    "import pandas as pd\n",
    "import numpy as np"
   ]
  },
  {
   "cell_type": "code",
   "execution_count": 18,
   "metadata": {},
   "outputs": [
    {
     "name": "stdout",
     "output_type": "stream",
     "text": [
      "[RUN #1] Preparing benchmark client... 0\n",
      "[RUN #1] Launching threads now... 1\n",
      "[RUN #1 0%,   0 secs]  2 threads:           0 ops,       0 (avg:       0) ops/sec, 0.00KB/sec (avg: 0.00KB/sec),  0.00 (avg:  0.00) msec latency 2\n",
      "[RUN #1 1%,   0 secs]  2 threads:        3357 ops,    3429 (avg:    3429) ops/sec, 76.82KB/sec (avg: 76.82KB/sec),  9.30 (avg:  9.30) msec latency 3\n",
      "[RUN #1 3%,   1 secs]  2 threads:        7349 ops,    3991 (avg:    3713) ops/sec, 89.33KB/sec (avg: 83.14KB/sec),  7.98 (avg:  8.58) msec latency 4\n",
      "[RUN #1 4%,   2 secs]  2 threads:       11322 ops,    3972 (avg:    3800) ops/sec, 88.79KB/sec (avg: 85.04KB/sec),  8.06 (avg:  8.40) msec latency 5\n",
      "[RUN #1 6%,   3 secs]  2 threads:       15284 ops,    3961 (avg:    3840) ops/sec, 88.59KB/sec (avg: 85.93KB/sec),  8.09 (avg:  8.32) msec latency 6\n",
      "[RUN #1 7%,   4 secs]  2 threads:       19452 ops,    4166 (avg:    3906) ops/sec, 93.18KB/sec (avg: 87.39KB/sec),  7.67 (avg:  8.18) msec latency 7\n",
      "[RUN #1 9%,   5 secs]  2 threads:       23755 ops,    4302 (avg:    3972) ops/sec, 96.20KB/sec (avg: 88.86KB/sec),  7.43 (avg:  8.05) msec latency 8\n",
      "[RUN #1 10%,   6 secs]  2 threads:       27685 ops,    3929 (avg:    3966) ops/sec, 87.78KB/sec (avg: 88.71KB/sec),  8.13 (avg:  8.06) msec latency 9\n",
      "[RUN #1 11%,   7 secs]  2 threads:       31698 ops,    4012 (avg:    3972) ops/sec, 89.64KB/sec (avg: 88.82KB/sec),  7.97 (avg:  8.05) msec latency 10\n",
      "[RUN #1 13%,   8 secs]  2 threads:       35818 ops,    4119 (avg:    3988) ops/sec, 92.03KB/sec (avg: 89.18KB/sec),  7.77 (avg:  8.01) msec latency 11\n",
      "[RUN #1 14%,   9 secs]  2 threads:       39826 ops,    4007 (avg:    3990) ops/sec, 89.54KB/sec (avg: 89.21KB/sec),  7.96 (avg:  8.01) msec latency 12\n",
      "[RUN #1 16%,  10 secs]  2 threads:       43734 ops,    3907 (avg:    3982) ops/sec, 87.33KB/sec (avg: 89.04KB/sec),  8.18 (avg:  8.02) msec latency 13\n",
      "[RUN #1 17%,  11 secs]  2 threads:       47537 ops,    3802 (avg:    3967) ops/sec, 84.99KB/sec (avg: 88.71KB/sec),  8.44 (avg:  8.06) msec latency 14\n",
      "[RUN #1 19%,  12 secs]  2 threads:       51695 ops,    4157 (avg:    3982) ops/sec, 92.94KB/sec (avg: 89.03KB/sec),  7.68 (avg:  8.03) msec latency 15\n",
      "[RUN #1 20%,  13 secs]  2 threads:       55806 ops,    4110 (avg:    3991) ops/sec, 91.91KB/sec (avg: 89.24KB/sec),  7.80 (avg:  8.01) msec latency 16\n",
      "[RUN #1 21%,  14 secs]  2 threads:       59899 ops,    4092 (avg:    3998) ops/sec, 91.50KB/sec (avg: 89.39KB/sec),  7.82 (avg:  8.00) msec latency 17\n",
      "[RUN #1 23%,  15 secs]  2 threads:       63520 ops,    3620 (avg:    3974) ops/sec, 80.95KB/sec (avg: 88.86KB/sec),  8.84 (avg:  8.05) msec latency 18\n",
      "[RUN #1 24%,  16 secs]  2 threads:       67525 ops,    4004 (avg:    3976) ops/sec, 89.54KB/sec (avg: 88.90KB/sec),  7.97 (avg:  8.04) msec latency 19\n",
      "[RUN #1 26%,  17 secs]  2 threads:       71558 ops,    4032 (avg:    3979) ops/sec, 90.15KB/sec (avg: 88.97KB/sec),  7.92 (avg:  8.03) msec latency 20\n",
      "[RUN #1 27%,  18 secs]  2 threads:       75760 ops,    4201 (avg:    3991) ops/sec, 93.88KB/sec (avg: 89.23KB/sec),  7.62 (avg:  8.01) msec latency 21\n",
      "[RUN #1 29%,  19 secs]  2 threads:       79718 ops,    3957 (avg:    3989) ops/sec, 88.41KB/sec (avg: 89.19KB/sec),  8.09 (avg:  8.02) msec latency 22\n",
      "[RUN #1 30%,  20 secs]  2 threads:       83774 ops,    4055 (avg:    3992) ops/sec, 90.63KB/sec (avg: 89.26KB/sec),  7.88 (avg:  8.01) msec latency 23\n",
      "[RUN #1 31%,  21 secs]  2 threads:       87542 ops,    3767 (avg:    3982) ops/sec, 84.19KB/sec (avg: 89.03KB/sec),  8.48 (avg:  8.03) msec latency 24\n",
      "[RUN #1 33%,  22 secs]  2 threads:       91813 ops,    4270 (avg:    3994) ops/sec, 95.42KB/sec (avg: 89.30KB/sec),  7.50 (avg:  8.00) msec latency 25\n",
      "[RUN #1 34%,  23 secs]  2 threads:       95760 ops,    3945 (avg:    3992) ops/sec, 88.15KB/sec (avg: 89.26KB/sec),  8.09 (avg:  8.01) msec latency 26\n",
      "[RUN #1 36%,  24 secs]  2 threads:      100038 ops,    4277 (avg:    4004) ops/sec, 95.58KB/sec (avg: 89.51KB/sec),  7.49 (avg:  7.99) msec latency 27\n",
      "[RUN #1 37%,  25 secs]  2 threads:      104360 ops,    4321 (avg:    4016) ops/sec, 96.58KB/sec (avg: 89.78KB/sec),  7.37 (avg:  7.96) msec latency 28\n",
      "[RUN #1 39%,  26 secs]  2 threads:      108448 ops,    4087 (avg:    4019) ops/sec, 91.37KB/sec (avg: 89.84KB/sec),  7.85 (avg:  7.96) msec latency 29\n",
      "[RUN #1 40%,  27 secs]  2 threads:      112697 ops,    4248 (avg:    4027) ops/sec, 94.93KB/sec (avg: 90.02KB/sec),  7.54 (avg:  7.94) msec latency 30\n",
      "[RUN #1 41%,  28 secs]  2 threads:      116955 ops,    4257 (avg:    4035) ops/sec, 95.14KB/sec (avg: 90.20KB/sec),  7.51 (avg:  7.92) msec latency 31\n",
      "[RUN #1 43%,  29 secs]  2 threads:      121355 ops,    4399 (avg:    4047) ops/sec, 98.31KB/sec (avg: 90.47KB/sec),  7.24 (avg:  7.90) msec latency 32\n",
      "[RUN #1 44%,  30 secs]  2 threads:      125756 ops,    4400 (avg:    4058) ops/sec, 98.35KB/sec (avg: 90.72KB/sec),  7.28 (avg:  7.88) msec latency 33\n",
      "[RUN #1 46%,  31 secs]  2 threads:      129977 ops,    4220 (avg:    4063) ops/sec, 94.33KB/sec (avg: 90.84KB/sec),  7.59 (avg:  7.87) msec latency 34\n",
      "[RUN #1 47%,  32 secs]  2 threads:      134324 ops,    4346 (avg:    4072) ops/sec, 97.15KB/sec (avg: 91.03KB/sec),  7.35 (avg:  7.85) msec latency 35\n",
      "[RUN #1 49%,  33 secs]  2 threads:      138701 ops,    4376 (avg:    4081) ops/sec, 97.79KB/sec (avg: 91.23KB/sec),  7.30 (avg:  7.83) msec latency 36\n",
      "[RUN #1 50%,  34 secs]  2 threads:      142872 ops,    4170 (avg:    4083) ops/sec, 93.21KB/sec (avg: 91.28KB/sec),  7.68 (avg:  7.83) msec latency 37\n",
      "[RUN #1 51%,  35 secs]  2 threads:      147244 ops,    4371 (avg:    4091) ops/sec, 97.72KB/sec (avg: 91.46KB/sec),  7.34 (avg:  7.82) msec latency 38\n",
      "[RUN #1 53%,  36 secs]  2 threads:      151601 ops,    4356 (avg:    4099) ops/sec, 97.37KB/sec (avg: 91.62KB/sec),  7.32 (avg:  7.80) msec latency 39\n",
      "[RUN #1 54%,  37 secs]  2 threads:      155763 ops,    4161 (avg:    4100) ops/sec, 93.02KB/sec (avg: 91.66KB/sec),  7.70 (avg:  7.80) msec latency 40\n",
      "[RUN #1 56%,  38 secs]  2 threads:      160288 ops,    4524 (avg:    4111) ops/sec, 101.11KB/sec (avg: 91.90KB/sec),  7.06 (avg:  7.78) msec latency 41\n",
      "[RUN #1 57%,  39 secs]  2 threads:      164717 ops,    4428 (avg:    4119) ops/sec, 98.97KB/sec (avg: 92.08KB/sec),  7.23 (avg:  7.76) msec latency 42\n",
      "[RUN #1 59%,  40 secs]  2 threads:      169015 ops,    4297 (avg:    4123) ops/sec, 96.02KB/sec (avg: 92.17KB/sec),  7.44 (avg:  7.75) msec latency 43\n",
      "[RUN #1 60%,  41 secs]  2 threads:      173311 ops,    4295 (avg:    4127) ops/sec, 95.99KB/sec (avg: 92.26KB/sec),  7.43 (avg:  7.75) msec latency 44\n",
      "[RUN #1 61%,  42 secs]  2 threads:      177611 ops,    4299 (avg:    4131) ops/sec, 96.12KB/sec (avg: 92.35KB/sec),  7.45 (avg:  7.74) msec latency 45\n",
      "[RUN #1 63%,  43 secs]  2 threads:      181521 ops,    3909 (avg:    4126) ops/sec, 87.37KB/sec (avg: 92.24KB/sec),  8.19 (avg:  7.75) msec latency 46\n",
      "[RUN #1 64%,  44 secs]  2 threads:      185933 ops,    4411 (avg:    4133) ops/sec, 98.62KB/sec (avg: 92.38KB/sec),  7.25 (avg:  7.74) msec latency 47\n",
      "[RUN #1 66%,  45 secs]  2 threads:      190361 ops,    4427 (avg:    4139) ops/sec, 98.96KB/sec (avg: 92.53KB/sec),  7.18 (avg:  7.72) msec latency 48\n",
      "[RUN #1 67%,  46 secs]  2 threads:      194581 ops,    4219 (avg:    4141) ops/sec, 94.32KB/sec (avg: 92.56KB/sec),  7.61 (avg:  7.72) msec latency 49\n",
      "[RUN #1 69%,  47 secs]  2 threads:      199112 ops,    4530 (avg:    4149) ops/sec, 101.26KB/sec (avg: 92.75KB/sec),  7.07 (avg:  7.71) msec latency 50\n",
      "[RUN #1 70%,  48 secs]  2 threads:      203400 ops,    4287 (avg:    4152) ops/sec, 95.80KB/sec (avg: 92.81KB/sec),  7.45 (avg:  7.70) msec latency 51\n",
      "[RUN #1 71%,  49 secs]  2 threads:      207338 ops,    3937 (avg:    4147) ops/sec, 88.01KB/sec (avg: 92.71KB/sec),  8.14 (avg:  7.71) msec latency 52\n",
      "[RUN #1 73%,  50 secs]  2 threads:      211667 ops,    4328 (avg:    4151) ops/sec, 96.71KB/sec (avg: 92.79KB/sec),  7.38 (avg:  7.70) msec latency 53\n",
      "[RUN #1 74%,  51 secs]  2 threads:      216003 ops,    4335 (avg:    4154) ops/sec, 96.88KB/sec (avg: 92.87KB/sec),  7.38 (avg:  7.70) msec latency 54\n",
      "[RUN #1 76%,  52 secs]  2 threads:      219993 ops,    3989 (avg:    4151) ops/sec, 89.20KB/sec (avg: 92.80KB/sec),  8.03 (avg:  7.70) msec latency 55\n",
      "[RUN #1 77%,  53 secs]  2 threads:      224319 ops,    4325 (avg:    4155) ops/sec, 96.70KB/sec (avg: 92.87KB/sec),  7.39 (avg:  7.70) msec latency 56\n",
      "[RUN #1 79%,  54 secs]  2 threads:      228596 ops,    4276 (avg:    4157) ops/sec, 95.61KB/sec (avg: 92.92KB/sec),  7.47 (avg:  7.69) msec latency 57\n",
      "[RUN #1 80%,  55 secs]  2 threads:      232640 ops,    4043 (avg:    4155) ops/sec, 90.38KB/sec (avg: 92.88KB/sec),  7.91 (avg:  7.70) msec latency 58\n",
      "[RUN #1 81%,  56 secs]  2 threads:      236873 ops,    4232 (avg:    4156) ops/sec, 94.61KB/sec (avg: 92.91KB/sec),  7.55 (avg:  7.69) msec latency 59\n",
      "[RUN #1 83%,  57 secs]  2 threads:      241220 ops,    4346 (avg:    4159) ops/sec, 97.16KB/sec (avg: 92.98KB/sec),  7.36 (avg:  7.69) msec latency 60\n",
      "[RUN #1 84%,  58 secs]  2 threads:      244999 ops,    3778 (avg:    4153) ops/sec, 84.45KB/sec (avg: 92.83KB/sec),  8.45 (avg:  7.70) msec latency 61\n",
      "[RUN #1 86%,  59 secs]  2 threads:      249182 ops,    4182 (avg:    4153) ops/sec, 93.47KB/sec (avg: 92.85KB/sec),  7.66 (avg:  7.70) msec latency 62\n",
      "[RUN #1 87%,  60 secs]  2 threads:      253352 ops,    4169 (avg:    4154) ops/sec, 93.23KB/sec (avg: 92.85KB/sec),  7.65 (avg:  7.70) msec latency 63\n",
      "[RUN #1 89%,  61 secs]  2 threads:      257353 ops,    4000 (avg:    4151) ops/sec, 89.43KB/sec (avg: 92.80KB/sec),  8.02 (avg:  7.70) msec latency 64\n",
      "[RUN #1 90%,  62 secs]  2 threads:      261720 ops,    4345 (avg:    4154) ops/sec, 97.13KB/sec (avg: 92.87KB/sec),  7.33 (avg:  7.70) msec latency 65\n",
      "[RUN #1 91%,  63 secs]  2 threads:      266042 ops,    4307 (avg:    4157) ops/sec, 96.35KB/sec (avg: 92.92KB/sec),  7.43 (avg:  7.69) msec latency 66\n",
      "[RUN #1 93%,  64 secs]  2 threads:      270134 ops,    4091 (avg:    4156) ops/sec, 91.47KB/sec (avg: 92.90KB/sec),  7.84 (avg:  7.69) msec latency 67\n",
      "[RUN #1 94%,  65 secs]  2 threads:      271037 ops,     902 (avg:    4106) ops/sec, 20.18KB/sec (avg: 91.80KB/sec),  7.93 (avg:  7.70) msec latency 68\n",
      "[RUN #1 96%,  66 secs]  2 threads:      273873 ops,    2835 (avg:    4087) ops/sec, 63.38KB/sec (avg: 91.37KB/sec), 20.05 (avg:  7.82) msec latency 69\n",
      "[RUN #1 97%,  67 secs]  2 threads:      278153 ops,    4279 (avg:    4090) ops/sec, 95.69KB/sec (avg: 91.44KB/sec),  7.47 (avg:  7.82) msec latency 70\n",
      "[RUN #1 99%,  68 secs]  2 threads:      282303 ops,    4149 (avg:    4091) ops/sec, 92.75KB/sec (avg: 91.46KB/sec),  7.69 (avg:  7.82) msec latency 71\n",
      "[RUN #1 100%,  69 secs]  2 threads:      288919 ops,    6615 (avg:    4127) ops/sec, 147.90KB/sec (avg: 92.26KB/sec),  4.85 (avg:  7.75) msec latency 72\n",
      "[RUN #1 100%,  70 secs]  0 threads:      288955 ops,    6615 (avg:    4127) ops/sec, 147.90KB/sec (avg: 92.26KB/sec),  4.85 (avg:  7.75) msec latency 73\n",
      " 74\n",
      "2         Threads 75\n",
      "16        Connections per thread 76\n",
      "70        Seconds 77\n",
      " 78\n",
      " 79\n",
      "ALL STATS 80\n",
      "                                                     Ops/sec  Hits/sec  \\\n",
      "Type                                                                     \n",
      "-----------------------------------------------...       NaN       NaN   \n",
      "Sets                                                    0.00       NaN   \n",
      "Gets                                                 4127.74       0.0   \n",
      "Waits                                                   0.00       NaN   \n",
      "\n",
      "                                                     Misses/sec  Latency  \\\n",
      "Type                                                                       \n",
      "-----------------------------------------------...          NaN      NaN   \n",
      "Sets                                                        NaN    0.000   \n",
      "Gets                                                4127.740234    7.747   \n",
      "Waits                                                       NaN    0.000   \n",
      "\n",
      "                                                       KB/sec  \n",
      "Type                                                           \n",
      "-----------------------------------------------...        NaN  \n",
      "Sets                                                 0.000000  \n",
      "Gets                                                92.260002  \n",
      "Waits                                                     NaN  \n"
     ]
    },
    {
     "ename": "NameError",
     "evalue": "name 'String' is not defined",
     "output_type": "error",
     "traceback": [
      "\u001b[0;31m---------------------------------------------------------------------------\u001b[0m",
      "\u001b[0;31mNameError\u001b[0m                                 Traceback (most recent call last)",
      "\u001b[0;32m<ipython-input-18-086d75c1b9d2>\u001b[0m in \u001b[0;36m<module>\u001b[0;34m\u001b[0m\n\u001b[1;32m     22\u001b[0m \u001b[0mprint\u001b[0m\u001b[0;34m(\u001b[0m\u001b[0mtable\u001b[0m\u001b[0;34m)\u001b[0m\u001b[0;34m\u001b[0m\u001b[0m\n\u001b[1;32m     23\u001b[0m \u001b[0;34m\u001b[0m\u001b[0m\n\u001b[0;32m---> 24\u001b[0;31m \u001b[0mhisto\u001b[0m \u001b[0;34m=\u001b[0m \u001b[0mpd\u001b[0m\u001b[0;34m.\u001b[0m\u001b[0mread_table\u001b[0m\u001b[0;34m(\u001b[0m\u001b[0mlog_dir\u001b[0m\u001b[0;34m+\u001b[0m\u001b[0mlog_file\u001b[0m\u001b[0;34m,\u001b[0m  \u001b[0mskiprows\u001b[0m\u001b[0;34m=\u001b[0m\u001b[0mtable_offset\u001b[0m\u001b[0;34m+\u001b[0m\u001b[0;36m13\u001b[0m\u001b[0;34m,\u001b[0m \u001b[0mnrows\u001b[0m\u001b[0;34m=\u001b[0m\u001b[0;36m4\u001b[0m\u001b[0;34m,\u001b[0m \u001b[0mskipinitialspace\u001b[0m\u001b[0;34m=\u001b[0m\u001b[0;32mTrue\u001b[0m\u001b[0;34m,\u001b[0m \u001b[0mna_values\u001b[0m\u001b[0;34m=\u001b[0m\u001b[0;34m'---'\u001b[0m\u001b[0;34m,\u001b[0m \u001b[0mindex_col\u001b[0m\u001b[0;34m=\u001b[0m\u001b[0;36m0\u001b[0m\u001b[0;34m,\u001b[0m \u001b[0mdtype\u001b[0m\u001b[0;34m=\u001b[0m\u001b[0;34m{\u001b[0m\u001b[0;34m'Type'\u001b[0m\u001b[0;34m:\u001b[0m \u001b[0mString\u001b[0m\u001b[0;34m,\u001b[0m \u001b[0;34m'<= msec'\u001b[0m\u001b[0;34m:\u001b[0m \u001b[0mnp\u001b[0m\u001b[0;34m.\u001b[0m\u001b[0mfloat32\u001b[0m\u001b[0;34m,\u001b[0m \u001b[0;34m'Percent'\u001b[0m\u001b[0;34m:\u001b[0m \u001b[0mnp\u001b[0m\u001b[0;34m.\u001b[0m\u001b[0mfloat32\u001b[0m\u001b[0;34m}\u001b[0m\u001b[0;34m,\u001b[0m \u001b[0mnames\u001b[0m\u001b[0;34m=\u001b[0m\u001b[0;34m[\u001b[0m\u001b[0;34m'Types'\u001b[0m\u001b[0;34m,\u001b[0m \u001b[0;34m'<= msec'\u001b[0m\u001b[0;34m,\u001b[0m \u001b[0;34m'Percent'\u001b[0m\u001b[0;34m]\u001b[0m\u001b[0;34m)\u001b[0m\u001b[0;34m\u001b[0m\u001b[0m\n\u001b[0m\u001b[1;32m     25\u001b[0m \u001b[0mprint\u001b[0m\u001b[0;34m(\u001b[0m\u001b[0mhisto\u001b[0m\u001b[0;34m)\u001b[0m\u001b[0;34m\u001b[0m\u001b[0m\n",
      "\u001b[0;31mNameError\u001b[0m: name 'String' is not defined"
     ]
    }
   ],
   "source": [
    "log_dir = 'logs/20181021184441/'\n",
    "log_file = '_ratio0:1_run1_vclients16_workerthreads16_client6_instance1.log'\n",
    "df = pd.read_csv(log_dir+log_file, chunksize=1, header=None, encoding='utf-8')\n",
    "\n",
    "table_offset = 0\n",
    "\n",
    "histo_offset = -1\n",
    "i=0\n",
    "with (open(log_dir+log_file, 'r')) as file:\n",
    "    \n",
    "    lines = file.readlines()\n",
    "    for line in lines:\n",
    "        line = line.strip()\n",
    "        print(line, i)\n",
    "        i+=1\n",
    "        if line != 'ALL STATS':\n",
    "            table_offset += 1\n",
    "        else:\n",
    "            break\n",
    "        \n",
    "table = pd.read_table(log_dir+log_file,  skiprows=table_offset+3, nrows=4, skipinitialspace=True, delim_whitespace=True, na_values='---', index_col=0, dtype={'Type': object, 'Ops/sec': np.float32, 'Hits/sec': np.float32, 'Misses/sec': np.float32, 'Latency': np.float32, 'KB/sec': np.float32}, names=['Type',' Ops/sec', 'Hits/sec', 'Misses/sec', 'Latency', 'KB/sec'])\n",
    "print(table)\n",
    "\n",
    "histo = pd.read_table(log_dir+log_file,  skiprows=table_offset+13, nrows=4, skipinitialspace=True, na_values='---', index_col=0, delim_whitespace=True, dtype={'Type': object, '<= msec': np.float32, 'Percent': np.float32}, names=['Types', '<= msec', 'Percent'])\n",
    "print(histo)"
   ]
  },
  {
   "cell_type": "code",
   "execution_count": 12,
   "metadata": {},
   "outputs": [
    {
     "data": {
      "text/plain": [
       "Index(['------------------------------------------------------------------------',\n",
       "       'Sets', 'Gets', 'Waits'],\n",
       "      dtype='object', name='Type')"
      ]
     },
     "execution_count": 12,
     "metadata": {},
     "output_type": "execute_result"
    }
   ],
   "source": [
    "table.index"
   ]
  },
  {
   "cell_type": "code",
   "execution_count": null,
   "metadata": {},
   "outputs": [],
   "source": []
  }
 ],
 "metadata": {
  "kernelspec": {
   "display_name": "Python 3",
   "language": "python",
   "name": "python3"
  },
  "language_info": {
   "codemirror_mode": {
    "name": "ipython",
    "version": 3
   },
   "file_extension": ".py",
   "mimetype": "text/x-python",
   "name": "python",
   "nbconvert_exporter": "python",
   "pygments_lexer": "ipython3",
   "version": "3.6.3"
  }
 },
 "nbformat": 4,
 "nbformat_minor": 2
}
