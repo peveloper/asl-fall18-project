{
 "cells": [
  {
   "cell_type": "code",
   "execution_count": 1,
   "metadata": {},
   "outputs": [],
   "source": [
    "from os import listdir\n",
    "from os.path import isfile\n",
    "from fnmatch import fnmatch\n",
    "from math import isnan, ceil\n",
    "from pprint import pprint\n",
    "from statistics import median\n",
    "from re import match, search\n",
    "\n",
    "import pandas as pd\n",
    "import numpy as np\n",
    "import matplotlib.pyplot as plt\n",
    "import matplotlib.ticker as ticker\n",
    "from matplotlib.font_manager import FontProperties"
   ]
  },
  {
   "cell_type": "code",
   "execution_count": 2,
   "metadata": {},
   "outputs": [],
   "source": [
    "def get_ratio(filename, mw=False):\n",
    "    i = 0\n",
    "    if mw:\n",
    "        i = 1\n",
    "    return filename.split('_')[i].replace('ratio','')"
   ]
  },
  {
   "cell_type": "code",
   "execution_count": 3,
   "metadata": {},
   "outputs": [],
   "source": [
    "def get_run(filename, mw=False):\n",
    "    i = 1\n",
    "    if mw:\n",
    "        i = 2\n",
    "    return int(filename.split('_')[i].replace('run',''))"
   ]
  },
  {
   "cell_type": "code",
   "execution_count": 4,
   "metadata": {},
   "outputs": [],
   "source": [
    "def get_vcs(filename, mw=False):\n",
    "    i = 2\n",
    "    if mw:\n",
    "        i = 3\n",
    "    return int(filename.split('_')[i].replace('vclients',''))"
   ]
  },
  {
   "cell_type": "code",
   "execution_count": 5,
   "metadata": {},
   "outputs": [],
   "source": [
    "def get_worker_threads(filename, mw=False):\n",
    "    i = 3\n",
    "    if mw:\n",
    "        i = 4 \n",
    "        return int(filename.split('_')[i].replace('workerthreads', '').replace('.log', ''))\n",
    "    return int(filename.split('_')[i].replace('workerthreads', ''))"
   ]
  },
  {
   "cell_type": "code",
   "execution_count": 6,
   "metadata": {},
   "outputs": [],
   "source": [
    "def get_client(filename):\n",
    "    return int(filename.split('_')[4].replace('client', ''))"
   ]
  },
  {
   "cell_type": "code",
   "execution_count": 7,
   "metadata": {},
   "outputs": [],
   "source": [
    "def get_instance(filename):\n",
    "    return int(filename.split('_')[-1].replace('instance','').replace('.log', ''))"
   ]
  },
  {
   "cell_type": "code",
   "execution_count": 8,
   "metadata": {},
   "outputs": [],
   "source": [
    "def get_mw(filename):\n",
    "    return int(filename.split('_')[0].replace('stats', ''))"
   ]
  },
  {
   "cell_type": "code",
   "execution_count": 9,
   "metadata": {},
   "outputs": [],
   "source": [
    "def roundup(x):\n",
    "    return int(ceil(x / 1.0)) * 1"
   ]
  },
  {
   "cell_type": "code",
   "execution_count": 10,
   "metadata": {},
   "outputs": [],
   "source": [
    "def dump_csv(df, filename):\n",
    "    df.to_csv(filename, float_format='%.2f')\n",
    "    return"
   ]
  },
  {
   "cell_type": "code",
   "execution_count": 13,
   "metadata": {},
   "outputs": [],
   "source": [
    "timestamp = '20181214144851'\n",
    "log_dir = 'logs/%s/' % timestamp\n",
    "\n",
    "logs = [f for f in listdir(log_dir) if fnmatch(f, '*.log')]\n",
    "\n",
    "mw = '^stats(.*)'\n",
    "middleware_logs = [f for f in logs if match(mw, f)]\n",
    "\n",
    "ratios = ['1:0', '0:1']\n",
    "runs = [x for x in range(1, 3 + 1)] \n",
    "instances = [x for x in range(1, 1 + 1)]\n",
    "threads = 2 \n",
    "clients = [x for x in range(1, 3 + 1)]\n",
    "vclients = [32]\n",
    "worker_threads = [8, 32]\n",
    "mws = [x for x in range(1, 1 + 1)]\n",
    "\n",
    "mw_multi_index = [ratios, worker_threads, vclients, runs, mws]\n",
    "mw_len_index = len(mws) * len(ratios) * len(worker_threads) * len(vclients) * len(runs)\n",
    "mw_index = pd.MultiIndex.from_product(mw_multi_index, names=['ratios', 'wts', 'vcs', 'runs', 'mws'])\n",
    "columns = ['Throughput (ops/s)', 'ResponseTime (ms)']\n",
    "columns += ['Jobs', 'ServiceTime (ms)', 'WaitingTime (ms)', 'QueueSize']\n",
    "pd.set_option(\"display.precision\", 2)\n",
    "\n",
    "mw_template = pd.DataFrame([[.0] * len(columns)] * mw_len_index, index=mw_index, columns=columns)\n",
    "\n",
    "for log_file in middleware_logs:\n",
    "    ratio = get_ratio(log_file, True) \n",
    "    run = get_run(log_file, True)\n",
    "    vcs = get_vcs(log_file, True)\n",
    "    wts = get_worker_threads(log_file, True)\n",
    "    mw = get_mw(log_file)\n",
    "\n",
    "    with (open(log_dir+log_file, 'r')) as file:\n",
    "        lines = file.readlines()\n",
    "\n",
    "        offset = -1\n",
    "        for i, line in enumerate(lines):\n",
    "            if \"Interval\" in line:\n",
    "                offset = i\n",
    "             \n",
    "        table = pd.read_table(log_dir+log_file, skiprows=1, engine='python', nrows=offset -1, skipinitialspace=True, sep=',\\s*', index_col=0, names=['Elapsed Time', 'AVG Throughput', 'AVG Queue Size', 'AVG Waiting Time', 'AVG Service Time', 'AVG Response Time', 'AVG SET Response Time', 'AVG GET Response Time', 'AVG MULTI-GET Response Time', '#SETS', '#GETS', '#MULTIGETS', 'GET MissRatio', 'MULTI-GET MissRatio', 'AVG MULTI-GET Size'])\n",
    "        table = table.astype('float32')\n",
    "        \n",
    "        sets = table['#SETS'].sum()\n",
    "        gets = table['#GETS'].sum()\n",
    "        multi = table['#MULTIGETS'].sum()\n",
    "        \n",
    "        mw_template.loc[(ratio, wts, vcs, run, mw), 'Throughput (ops/s)'] = table['AVG Throughput'].values[1:-1].mean()\n",
    "        mw_template.loc[(ratio, wts, vcs, run, mw), 'ResponseTime (ms)'] = table['AVG Response Time'].values[1:-1].mean()\n",
    "        if ratio == '1:0':\n",
    "            mw_template.loc[(ratio, wts, vcs, run, mw), 'Jobs'] = table['#SETS'].sum()\n",
    "        else:\n",
    "            mw_template.loc[(ratio, wts, vcs, run, mw), 'Jobs'] = table['#GETS'].sum()\n",
    "        mw_template.loc[(ratio, wts, vcs, run, mw), 'ServiceTime (ms)'] = table['AVG Service Time'].values[1:-1].mean()\n",
    "        mw_template.loc[(ratio, wts, vcs, run, mw), 'WaitingTime (ms)'] = table['AVG Waiting Time'].values[1:-1].mean()\n",
    "        mw_template.loc[(ratio, wts, vcs, run, mw), 'QueueSize'] = table['AVG Queue Size'].values[1:-1].mean()\n",
    "\n",
    "        \n",
    "dump_csv(mw_template, '../out/1_mw_3_server.csv')"
   ]
  },
  {
   "cell_type": "code",
   "execution_count": null,
   "metadata": {},
   "outputs": [],
   "source": []
  },
  {
   "cell_type": "code",
   "execution_count": null,
   "metadata": {},
   "outputs": [],
   "source": []
  },
  {
   "cell_type": "code",
   "execution_count": null,
   "metadata": {},
   "outputs": [],
   "source": []
  }
 ],
 "metadata": {
  "kernelspec": {
   "display_name": "Python 3",
   "language": "python",
   "name": "python3"
  },
  "language_info": {
   "codemirror_mode": {
    "name": "ipython",
    "version": 3
   },
   "file_extension": ".py",
   "mimetype": "text/x-python",
   "name": "python",
   "nbconvert_exporter": "python",
   "pygments_lexer": "ipython3",
   "version": "3.6.3"
  }
 },
 "nbformat": 4,
 "nbformat_minor": 2
}
